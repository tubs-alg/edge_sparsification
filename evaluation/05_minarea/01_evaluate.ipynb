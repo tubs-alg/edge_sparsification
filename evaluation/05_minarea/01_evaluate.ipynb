{
 "cells": [
  {
   "cell_type": "markdown",
   "id": "bd4f59c2-9e22-40ab-9592-40d7fe1cef1b",
   "metadata": {},
   "source": [
    "# Min-Area Evaluation\n",
    "\n",
    "Experiments run with a timelimit of 7200s (2hr) on algpc02. There have been two models, but the Edge-Model showed to be problematic and slower, thus, we removed it.\n",
    "\n",
    "The experimentes have been executed with CPLEX, thus, we do not have the data to analyze the progress over time for the area optimization. It does not seem to be feasible, to quickly change that. However, the two different models also take up some space."
   ]
  },
  {
   "cell_type": "code",
   "execution_count": 20,
   "id": "ae171e44-89be-4e62-b26b-8430d57a46e3",
   "metadata": {},
   "outputs": [],
   "source": [
    "import json\n",
    "import os\n",
    "import string\n",
    "import pandas as pd\n",
    "import numpy as np\n",
    "import seaborn as sns\n",
    "import matplotlib.pyplot as plt\n",
    "sns.set()\n",
    "sns.set_theme()\n",
    "plt.rcParams.update({'figure.max_open_warning': 0\n",
    "                    ,\"text.usetex\": True\n",
    "                    ,\"font.family\": \"serif\"\n",
    "                    })\n",
    "sns.set_palette(\"tab10\")\n",
    "PAPER_WIDTH = 10"
   ]
  },
  {
   "cell_type": "markdown",
   "id": "682706c5-3150-4611-abc3-b0cc55c108d3",
   "metadata": {},
   "source": [
    "## Explaining the data"
   ]
  },
  {
   "cell_type": "code",
   "execution_count": 21,
   "id": "9947288d-dd9d-4f34-9e60-47f5a411e89a",
   "metadata": {},
   "outputs": [],
   "source": [
    "t_experiments = pd.read_json(\"./00_minarea_data.json.zip\")\n",
    "t_experiments = t_experiments[t_experiments[\"Model\"]==\"Triangle\"] # Edge is instable and slow!\n",
    "t_experiments.drop(columns=[\"Model\"], inplace=True)\n",
    "full_techniques =  t_experiments[t_experiments[\"num_vertices\"]==23][\"sparsification_technique\"].unique()\n",
    "t_experiments = t_experiments[t_experiments[\"sparsification_technique\"].isin(full_techniques)]"
   ]
  },
  {
   "cell_type": "markdown",
   "id": "44ea5c38-574b-40aa-9ac9-6142efe18a96",
   "metadata": {},
   "source": [
    "* **num_vertices:** The number of vertices in this instance. Most of the instances have been created in 5-steps.\n",
    "* **sparsification_technique:** The used sparsification technique. The complete graph has \"complete\".\n",
    "* **ObjVal:** The objective value of the solution (either optimal or the best at timeout).\n",
    "* **filename_instance:** The file of the instance. Use this to distinguish different instances. The name also states something about its properties.\n",
    "* **Runtime:** The runtime in seconds. The time limit has been 3600s.\n",
    "* **Status:** The status code. 2 means solved to optimality. For sparisified instances, the instance may be solved in time but infeasible.\n",
    "* **LowerBound:** The lower bound. If Status==2, it should equal the ObjVal.\n",
    "* **solver:** Just the name of the solver. Not of relevance.\n",
    "* **LowerBound_best:** The best known lower bound for the instance (complete graph)"
   ]
  },
  {
   "cell_type": "code",
   "execution_count": 22,
   "id": "84f28cf5-3c03-4739-b232-57b2e7f14f7a",
   "metadata": {},
   "outputs": [],
   "source": [
    "lbs = t_experiments[t_experiments[\"sparsification_technique\"]==\"complete\"].groupby(\"filename_instance\")[\"LowerBound\"].max()\n",
    "t_experiments = pd.merge(left=t_experiments, right=lbs, left_on=\"filename_instance\", right_index=True, suffixes=(\"\", \"_best\"))"
   ]
  },
  {
   "cell_type": "code",
   "execution_count": 23,
   "id": "1ff11d6b-ad10-4bf4-bf67-714b55c1ff65",
   "metadata": {},
   "outputs": [
    {
     "data": {
      "text/html": [
       "<div>\n",
       "<style scoped>\n",
       "    .dataframe tbody tr th:only-of-type {\n",
       "        vertical-align: middle;\n",
       "    }\n",
       "\n",
       "    .dataframe tbody tr th {\n",
       "        vertical-align: top;\n",
       "    }\n",
       "\n",
       "    .dataframe thead th {\n",
       "        text-align: right;\n",
       "    }\n",
       "</style>\n",
       "<table border=\"1\" class=\"dataframe\">\n",
       "  <thead>\n",
       "    <tr style=\"text-align: right;\">\n",
       "      <th></th>\n",
       "      <th>Runtime</th>\n",
       "      <th>solver</th>\n",
       "      <th>pointset</th>\n",
       "      <th>instance_solver</th>\n",
       "      <th>UpperBound</th>\n",
       "      <th>MIPGap</th>\n",
       "      <th>LowerBound</th>\n",
       "      <th>ObjVal</th>\n",
       "      <th>filename_solver</th>\n",
       "      <th>Solved</th>\n",
       "      <th>...</th>\n",
       "      <th>GRB_OUT_Incumbent</th>\n",
       "      <th>num_vertices</th>\n",
       "      <th>filename_sparsification</th>\n",
       "      <th>instance_sparsification</th>\n",
       "      <th>size</th>\n",
       "      <th>type</th>\n",
       "      <th>id_instance</th>\n",
       "      <th>filename_instance</th>\n",
       "      <th>size_binned</th>\n",
       "      <th>LowerBound_best</th>\n",
       "    </tr>\n",
       "  </thead>\n",
       "  <tbody>\n",
       "    <tr>\n",
       "      <th>207</th>\n",
       "      <td>4.630881</td>\n",
       "      <td>Min_area</td>\n",
       "      <td>iss036e025984_large_18_0</td>\n",
       "      <td>iss036e025984_large_18_0_complete</td>\n",
       "      <td>-1</td>\n",
       "      <td>0.0</td>\n",
       "      <td>149275.000000</td>\n",
       "      <td>149275.000000</td>\n",
       "      <td>iss036e025984_large_18_0_complete_Min_area.json</td>\n",
       "      <td>True</td>\n",
       "      <td>...</td>\n",
       "      <td>None</td>\n",
       "      <td>18</td>\n",
       "      <td>iss036e025984_large_18_0_complete.json</td>\n",
       "      <td>iss036e025984_large_18_0</td>\n",
       "      <td>18</td>\n",
       "      <td>image_brightness</td>\n",
       "      <td>iss036e025984_large_18_0</td>\n",
       "      <td>iss036e025984_large_18_0.json</td>\n",
       "      <td>{'closed': 'right', 'closed_left': False, 'clo...</td>\n",
       "      <td>149275.000000</td>\n",
       "    </tr>\n",
       "    <tr>\n",
       "      <th>204</th>\n",
       "      <td>0.049432</td>\n",
       "      <td>Min_area</td>\n",
       "      <td>iss036e025984_large_18_0</td>\n",
       "      <td>iss036e025984_large_18_0_delaunayT</td>\n",
       "      <td>-1</td>\n",
       "      <td>0.0</td>\n",
       "      <td>445322.500000</td>\n",
       "      <td>445322.500000</td>\n",
       "      <td>iss036e025984_large_18_0_delaunayT_Min_area.json</td>\n",
       "      <td>True</td>\n",
       "      <td>...</td>\n",
       "      <td>None</td>\n",
       "      <td>18</td>\n",
       "      <td>iss036e025984_large_18_0_delaunayT.json</td>\n",
       "      <td>iss036e025984_large_18_0</td>\n",
       "      <td>18</td>\n",
       "      <td>image_brightness</td>\n",
       "      <td>iss036e025984_large_18_0</td>\n",
       "      <td>iss036e025984_large_18_0.json</td>\n",
       "      <td>{'closed': 'right', 'closed_left': False, 'clo...</td>\n",
       "      <td>149275.000000</td>\n",
       "    </tr>\n",
       "    <tr>\n",
       "      <th>232</th>\n",
       "      <td>0.068796</td>\n",
       "      <td>Min_area</td>\n",
       "      <td>iss036e025984_large_18_0</td>\n",
       "      <td>iss036e025984_large_18_0_greedyT</td>\n",
       "      <td>-1</td>\n",
       "      <td>0.0</td>\n",
       "      <td>449966.000000</td>\n",
       "      <td>449966.000000</td>\n",
       "      <td>iss036e025984_large_18_0_greedyT_Min_area.json</td>\n",
       "      <td>True</td>\n",
       "      <td>...</td>\n",
       "      <td>None</td>\n",
       "      <td>18</td>\n",
       "      <td>iss036e025984_large_18_0_greedyT.json</td>\n",
       "      <td>iss036e025984_large_18_0</td>\n",
       "      <td>18</td>\n",
       "      <td>image_brightness</td>\n",
       "      <td>iss036e025984_large_18_0</td>\n",
       "      <td>iss036e025984_large_18_0.json</td>\n",
       "      <td>{'closed': 'right', 'closed_left': False, 'clo...</td>\n",
       "      <td>149275.000000</td>\n",
       "    </tr>\n",
       "    <tr>\n",
       "      <th>209</th>\n",
       "      <td>0.067972</td>\n",
       "      <td>Min_area</td>\n",
       "      <td>iss036e025984_large_18_0</td>\n",
       "      <td>iss036e025984_large_18_0_mwT</td>\n",
       "      <td>-1</td>\n",
       "      <td>0.0</td>\n",
       "      <td>449966.000000</td>\n",
       "      <td>449966.000000</td>\n",
       "      <td>iss036e025984_large_18_0_mwT_Min_area.json</td>\n",
       "      <td>True</td>\n",
       "      <td>...</td>\n",
       "      <td>None</td>\n",
       "      <td>18</td>\n",
       "      <td>iss036e025984_large_18_0_mwT.json</td>\n",
       "      <td>iss036e025984_large_18_0</td>\n",
       "      <td>18</td>\n",
       "      <td>image_brightness</td>\n",
       "      <td>iss036e025984_large_18_0</td>\n",
       "      <td>iss036e025984_large_18_0.json</td>\n",
       "      <td>{'closed': 'right', 'closed_left': False, 'clo...</td>\n",
       "      <td>149275.000000</td>\n",
       "    </tr>\n",
       "    <tr>\n",
       "      <th>210</th>\n",
       "      <td>0.210833</td>\n",
       "      <td>Min_area</td>\n",
       "      <td>iss036e025984_large_18_0</td>\n",
       "      <td>iss036e025984_large_18_0_onion-0</td>\n",
       "      <td>-1</td>\n",
       "      <td>0.0</td>\n",
       "      <td>258003.500000</td>\n",
       "      <td>258003.500000</td>\n",
       "      <td>iss036e025984_large_18_0_onion-0_Min_area.json</td>\n",
       "      <td>True</td>\n",
       "      <td>...</td>\n",
       "      <td>None</td>\n",
       "      <td>18</td>\n",
       "      <td>iss036e025984_large_18_0_onion-0.json</td>\n",
       "      <td>iss036e025984_large_18_0</td>\n",
       "      <td>18</td>\n",
       "      <td>image_brightness</td>\n",
       "      <td>iss036e025984_large_18_0</td>\n",
       "      <td>iss036e025984_large_18_0.json</td>\n",
       "      <td>{'closed': 'right', 'closed_left': False, 'clo...</td>\n",
       "      <td>149275.000000</td>\n",
       "    </tr>\n",
       "    <tr>\n",
       "      <th>...</th>\n",
       "      <td>...</td>\n",
       "      <td>...</td>\n",
       "      <td>...</td>\n",
       "      <td>...</td>\n",
       "      <td>...</td>\n",
       "      <td>...</td>\n",
       "      <td>...</td>\n",
       "      <td>...</td>\n",
       "      <td>...</td>\n",
       "      <td>...</td>\n",
       "      <td>...</td>\n",
       "      <td>...</td>\n",
       "      <td>...</td>\n",
       "      <td>...</td>\n",
       "      <td>...</td>\n",
       "      <td>...</td>\n",
       "      <td>...</td>\n",
       "      <td>...</td>\n",
       "      <td>...</td>\n",
       "      <td>...</td>\n",
       "      <td>...</td>\n",
       "    </tr>\n",
       "    <tr>\n",
       "      <th>47313</th>\n",
       "      <td>0.003970</td>\n",
       "      <td>Min_area</td>\n",
       "      <td>20210725_uniform_real_11_3</td>\n",
       "      <td>20210725_uniform_real_11_3_yao12-1</td>\n",
       "      <td>-1</td>\n",
       "      <td>0.0</td>\n",
       "      <td>-1.000000</td>\n",
       "      <td>0.000000</td>\n",
       "      <td>20210725_uniform_real_11_3_yao12-1_Min_area.json</td>\n",
       "      <td>False</td>\n",
       "      <td>...</td>\n",
       "      <td>None</td>\n",
       "      <td>11</td>\n",
       "      <td>20210725_uniform_real_11_3_yao12-1.json</td>\n",
       "      <td>20210725_uniform_real_11_3</td>\n",
       "      <td>11</td>\n",
       "      <td>uniform_real</td>\n",
       "      <td>20210725_uniform_real_11_3</td>\n",
       "      <td>20210725_uniform_real_11_3.json</td>\n",
       "      <td>{'closed': 'right', 'closed_left': False, 'clo...</td>\n",
       "      <td>28560.989694</td>\n",
       "    </tr>\n",
       "    <tr>\n",
       "      <th>47274</th>\n",
       "      <td>0.066298</td>\n",
       "      <td>Min_area</td>\n",
       "      <td>20210725_uniform_real_11_3</td>\n",
       "      <td>20210725_uniform_real_11_3_yao12-2</td>\n",
       "      <td>-1</td>\n",
       "      <td>0.0</td>\n",
       "      <td>45426.200145</td>\n",
       "      <td>45426.200145</td>\n",
       "      <td>20210725_uniform_real_11_3_yao12-2_Min_area.json</td>\n",
       "      <td>True</td>\n",
       "      <td>...</td>\n",
       "      <td>None</td>\n",
       "      <td>11</td>\n",
       "      <td>20210725_uniform_real_11_3_yao12-2.json</td>\n",
       "      <td>20210725_uniform_real_11_3</td>\n",
       "      <td>11</td>\n",
       "      <td>uniform_real</td>\n",
       "      <td>20210725_uniform_real_11_3</td>\n",
       "      <td>20210725_uniform_real_11_3.json</td>\n",
       "      <td>{'closed': 'right', 'closed_left': False, 'clo...</td>\n",
       "      <td>28560.989694</td>\n",
       "    </tr>\n",
       "    <tr>\n",
       "      <th>47293</th>\n",
       "      <td>0.002882</td>\n",
       "      <td>Min_area</td>\n",
       "      <td>20210725_uniform_real_11_3</td>\n",
       "      <td>20210725_uniform_real_11_3_yao6-0</td>\n",
       "      <td>-1</td>\n",
       "      <td>0.0</td>\n",
       "      <td>-1.000000</td>\n",
       "      <td>0.000000</td>\n",
       "      <td>20210725_uniform_real_11_3_yao6-0_Min_area.json</td>\n",
       "      <td>False</td>\n",
       "      <td>...</td>\n",
       "      <td>None</td>\n",
       "      <td>11</td>\n",
       "      <td>20210725_uniform_real_11_3_yao6-0.json</td>\n",
       "      <td>20210725_uniform_real_11_3</td>\n",
       "      <td>11</td>\n",
       "      <td>uniform_real</td>\n",
       "      <td>20210725_uniform_real_11_3</td>\n",
       "      <td>20210725_uniform_real_11_3.json</td>\n",
       "      <td>{'closed': 'right', 'closed_left': False, 'clo...</td>\n",
       "      <td>28560.989694</td>\n",
       "    </tr>\n",
       "    <tr>\n",
       "      <th>47308</th>\n",
       "      <td>0.003056</td>\n",
       "      <td>Min_area</td>\n",
       "      <td>20210725_uniform_real_11_3</td>\n",
       "      <td>20210725_uniform_real_11_3_yao6-1</td>\n",
       "      <td>-1</td>\n",
       "      <td>0.0</td>\n",
       "      <td>-1.000000</td>\n",
       "      <td>0.000000</td>\n",
       "      <td>20210725_uniform_real_11_3_yao6-1_Min_area.json</td>\n",
       "      <td>False</td>\n",
       "      <td>...</td>\n",
       "      <td>None</td>\n",
       "      <td>11</td>\n",
       "      <td>20210725_uniform_real_11_3_yao6-1.json</td>\n",
       "      <td>20210725_uniform_real_11_3</td>\n",
       "      <td>11</td>\n",
       "      <td>uniform_real</td>\n",
       "      <td>20210725_uniform_real_11_3</td>\n",
       "      <td>20210725_uniform_real_11_3.json</td>\n",
       "      <td>{'closed': 'right', 'closed_left': False, 'clo...</td>\n",
       "      <td>28560.989694</td>\n",
       "    </tr>\n",
       "    <tr>\n",
       "      <th>47303</th>\n",
       "      <td>0.023075</td>\n",
       "      <td>Min_area</td>\n",
       "      <td>20210725_uniform_real_11_3</td>\n",
       "      <td>20210725_uniform_real_11_3_yao6-2</td>\n",
       "      <td>-1</td>\n",
       "      <td>0.0</td>\n",
       "      <td>45426.200145</td>\n",
       "      <td>45426.200145</td>\n",
       "      <td>20210725_uniform_real_11_3_yao6-2_Min_area.json</td>\n",
       "      <td>True</td>\n",
       "      <td>...</td>\n",
       "      <td>None</td>\n",
       "      <td>11</td>\n",
       "      <td>20210725_uniform_real_11_3_yao6-2.json</td>\n",
       "      <td>20210725_uniform_real_11_3</td>\n",
       "      <td>11</td>\n",
       "      <td>uniform_real</td>\n",
       "      <td>20210725_uniform_real_11_3</td>\n",
       "      <td>20210725_uniform_real_11_3.json</td>\n",
       "      <td>{'closed': 'right', 'closed_left': False, 'clo...</td>\n",
       "      <td>28560.989694</td>\n",
       "    </tr>\n",
       "  </tbody>\n",
       "</table>\n",
       "<p>44279 rows × 26 columns</p>\n",
       "</div>"
      ],
      "text/plain": [
       "        Runtime    solver                    pointset  \\\n",
       "207    4.630881  Min_area    iss036e025984_large_18_0   \n",
       "204    0.049432  Min_area    iss036e025984_large_18_0   \n",
       "232    0.068796  Min_area    iss036e025984_large_18_0   \n",
       "209    0.067972  Min_area    iss036e025984_large_18_0   \n",
       "210    0.210833  Min_area    iss036e025984_large_18_0   \n",
       "...         ...       ...                         ...   \n",
       "47313  0.003970  Min_area  20210725_uniform_real_11_3   \n",
       "47274  0.066298  Min_area  20210725_uniform_real_11_3   \n",
       "47293  0.002882  Min_area  20210725_uniform_real_11_3   \n",
       "47308  0.003056  Min_area  20210725_uniform_real_11_3   \n",
       "47303  0.023075  Min_area  20210725_uniform_real_11_3   \n",
       "\n",
       "                          instance_solver  UpperBound  MIPGap     LowerBound  \\\n",
       "207     iss036e025984_large_18_0_complete          -1     0.0  149275.000000   \n",
       "204    iss036e025984_large_18_0_delaunayT          -1     0.0  445322.500000   \n",
       "232      iss036e025984_large_18_0_greedyT          -1     0.0  449966.000000   \n",
       "209          iss036e025984_large_18_0_mwT          -1     0.0  449966.000000   \n",
       "210      iss036e025984_large_18_0_onion-0          -1     0.0  258003.500000   \n",
       "...                                   ...         ...     ...            ...   \n",
       "47313  20210725_uniform_real_11_3_yao12-1          -1     0.0      -1.000000   \n",
       "47274  20210725_uniform_real_11_3_yao12-2          -1     0.0   45426.200145   \n",
       "47293   20210725_uniform_real_11_3_yao6-0          -1     0.0      -1.000000   \n",
       "47308   20210725_uniform_real_11_3_yao6-1          -1     0.0      -1.000000   \n",
       "47303   20210725_uniform_real_11_3_yao6-2          -1     0.0   45426.200145   \n",
       "\n",
       "              ObjVal                                   filename_solver  \\\n",
       "207    149275.000000   iss036e025984_large_18_0_complete_Min_area.json   \n",
       "204    445322.500000  iss036e025984_large_18_0_delaunayT_Min_area.json   \n",
       "232    449966.000000    iss036e025984_large_18_0_greedyT_Min_area.json   \n",
       "209    449966.000000        iss036e025984_large_18_0_mwT_Min_area.json   \n",
       "210    258003.500000    iss036e025984_large_18_0_onion-0_Min_area.json   \n",
       "...              ...                                               ...   \n",
       "47313       0.000000  20210725_uniform_real_11_3_yao12-1_Min_area.json   \n",
       "47274   45426.200145  20210725_uniform_real_11_3_yao12-2_Min_area.json   \n",
       "47293       0.000000   20210725_uniform_real_11_3_yao6-0_Min_area.json   \n",
       "47308       0.000000   20210725_uniform_real_11_3_yao6-1_Min_area.json   \n",
       "47303   45426.200145   20210725_uniform_real_11_3_yao6-2_Min_area.json   \n",
       "\n",
       "       Solved  ... GRB_OUT_Incumbent  num_vertices  \\\n",
       "207      True  ...              None            18   \n",
       "204      True  ...              None            18   \n",
       "232      True  ...              None            18   \n",
       "209      True  ...              None            18   \n",
       "210      True  ...              None            18   \n",
       "...       ...  ...               ...           ...   \n",
       "47313   False  ...              None            11   \n",
       "47274    True  ...              None            11   \n",
       "47293   False  ...              None            11   \n",
       "47308   False  ...              None            11   \n",
       "47303    True  ...              None            11   \n",
       "\n",
       "                       filename_sparsification     instance_sparsification  \\\n",
       "207     iss036e025984_large_18_0_complete.json    iss036e025984_large_18_0   \n",
       "204    iss036e025984_large_18_0_delaunayT.json    iss036e025984_large_18_0   \n",
       "232      iss036e025984_large_18_0_greedyT.json    iss036e025984_large_18_0   \n",
       "209          iss036e025984_large_18_0_mwT.json    iss036e025984_large_18_0   \n",
       "210      iss036e025984_large_18_0_onion-0.json    iss036e025984_large_18_0   \n",
       "...                                        ...                         ...   \n",
       "47313  20210725_uniform_real_11_3_yao12-1.json  20210725_uniform_real_11_3   \n",
       "47274  20210725_uniform_real_11_3_yao12-2.json  20210725_uniform_real_11_3   \n",
       "47293   20210725_uniform_real_11_3_yao6-0.json  20210725_uniform_real_11_3   \n",
       "47308   20210725_uniform_real_11_3_yao6-1.json  20210725_uniform_real_11_3   \n",
       "47303   20210725_uniform_real_11_3_yao6-2.json  20210725_uniform_real_11_3   \n",
       "\n",
       "      size              type                 id_instance  \\\n",
       "207     18  image_brightness    iss036e025984_large_18_0   \n",
       "204     18  image_brightness    iss036e025984_large_18_0   \n",
       "232     18  image_brightness    iss036e025984_large_18_0   \n",
       "209     18  image_brightness    iss036e025984_large_18_0   \n",
       "210     18  image_brightness    iss036e025984_large_18_0   \n",
       "...    ...               ...                         ...   \n",
       "47313   11      uniform_real  20210725_uniform_real_11_3   \n",
       "47274   11      uniform_real  20210725_uniform_real_11_3   \n",
       "47293   11      uniform_real  20210725_uniform_real_11_3   \n",
       "47308   11      uniform_real  20210725_uniform_real_11_3   \n",
       "47303   11      uniform_real  20210725_uniform_real_11_3   \n",
       "\n",
       "                     filename_instance  \\\n",
       "207      iss036e025984_large_18_0.json   \n",
       "204      iss036e025984_large_18_0.json   \n",
       "232      iss036e025984_large_18_0.json   \n",
       "209      iss036e025984_large_18_0.json   \n",
       "210      iss036e025984_large_18_0.json   \n",
       "...                                ...   \n",
       "47313  20210725_uniform_real_11_3.json   \n",
       "47274  20210725_uniform_real_11_3.json   \n",
       "47293  20210725_uniform_real_11_3.json   \n",
       "47308  20210725_uniform_real_11_3.json   \n",
       "47303  20210725_uniform_real_11_3.json   \n",
       "\n",
       "                                             size_binned LowerBound_best  \n",
       "207    {'closed': 'right', 'closed_left': False, 'clo...   149275.000000  \n",
       "204    {'closed': 'right', 'closed_left': False, 'clo...   149275.000000  \n",
       "232    {'closed': 'right', 'closed_left': False, 'clo...   149275.000000  \n",
       "209    {'closed': 'right', 'closed_left': False, 'clo...   149275.000000  \n",
       "210    {'closed': 'right', 'closed_left': False, 'clo...   149275.000000  \n",
       "...                                                  ...             ...  \n",
       "47313  {'closed': 'right', 'closed_left': False, 'clo...    28560.989694  \n",
       "47274  {'closed': 'right', 'closed_left': False, 'clo...    28560.989694  \n",
       "47293  {'closed': 'right', 'closed_left': False, 'clo...    28560.989694  \n",
       "47308  {'closed': 'right', 'closed_left': False, 'clo...    28560.989694  \n",
       "47303  {'closed': 'right', 'closed_left': False, 'clo...    28560.989694  \n",
       "\n",
       "[44279 rows x 26 columns]"
      ]
     },
     "execution_count": 23,
     "metadata": {},
     "output_type": "execute_result"
    }
   ],
   "source": [
    "t_experiments"
   ]
  },
  {
   "cell_type": "code",
   "execution_count": 24,
   "id": "3a496210-6320-420b-a03b-c5fbea984f6f",
   "metadata": {},
   "outputs": [
    {
     "data": {
      "text/html": [
       "<div>\n",
       "<style scoped>\n",
       "    .dataframe tbody tr th:only-of-type {\n",
       "        vertical-align: middle;\n",
       "    }\n",
       "\n",
       "    .dataframe tbody tr th {\n",
       "        vertical-align: top;\n",
       "    }\n",
       "\n",
       "    .dataframe thead th {\n",
       "        text-align: right;\n",
       "    }\n",
       "</style>\n",
       "<table border=\"1\" class=\"dataframe\">\n",
       "  <thead>\n",
       "    <tr style=\"text-align: right;\">\n",
       "      <th></th>\n",
       "      <th>Runtime</th>\n",
       "      <th>solver</th>\n",
       "      <th>pointset</th>\n",
       "      <th>instance_solver</th>\n",
       "      <th>UpperBound</th>\n",
       "      <th>MIPGap</th>\n",
       "      <th>LowerBound</th>\n",
       "      <th>ObjVal</th>\n",
       "      <th>filename_solver</th>\n",
       "      <th>Solved</th>\n",
       "      <th>...</th>\n",
       "      <th>GRB_OUT_Incumbent</th>\n",
       "      <th>num_vertices</th>\n",
       "      <th>filename_sparsification</th>\n",
       "      <th>instance_sparsification</th>\n",
       "      <th>size</th>\n",
       "      <th>type</th>\n",
       "      <th>id_instance</th>\n",
       "      <th>filename_instance</th>\n",
       "      <th>size_binned</th>\n",
       "      <th>LowerBound_best</th>\n",
       "    </tr>\n",
       "  </thead>\n",
       "  <tbody>\n",
       "  </tbody>\n",
       "</table>\n",
       "<p>0 rows × 26 columns</p>\n",
       "</div>"
      ],
      "text/plain": [
       "Empty DataFrame\n",
       "Columns: [Runtime, solver, pointset, instance_solver, UpperBound, MIPGap, LowerBound, ObjVal, filename_solver, Solved, id_solver, Status, GRB_OUT_Time, sparsification_technique, id_sparsification, GRB_OUT_BestBd, GRB_OUT_Incumbent, num_vertices, filename_sparsification, instance_sparsification, size, type, id_instance, filename_instance, size_binned, LowerBound_best]\n",
       "Index: []\n",
       "\n",
       "[0 rows x 26 columns]"
      ]
     },
     "execution_count": 24,
     "metadata": {},
     "output_type": "execute_result"
    }
   ],
   "source": [
    "t_experiments[t_experiments[\"LowerBound\"]>1.01*t_experiments[\"ObjVal\"]]"
   ]
  },
  {
   "cell_type": "code",
   "execution_count": 25,
   "id": "3e53c051-2cbb-4165-b531-fc21c6498448",
   "metadata": {},
   "outputs": [
    {
     "data": {
      "text/plain": [
       "<Axes: ylabel='Frequency'>"
      ]
     },
     "execution_count": 25,
     "metadata": {},
     "output_type": "execute_result"
    },
    {
     "data": {
      "image/png": "[encoded data removed]",
      "text/plain": [
       "<Figure size 640x480 with 1 Axes>"
      ]
     },
     "metadata": {},
     "output_type": "display_data"
    }
   ],
   "source": [
    "t_experiments[\"num_vertices\"].plot.hist()"
   ]
  },
  {
   "cell_type": "markdown",
   "id": "ec1e901b-f7ce-46e3-a7b3-cc6341caa0b6",
   "metadata": {},
   "source": [
    "## 1. Feasibility\n",
    "\n",
    "Quite a lot of sparsifications instances are barely feasible. Luckily the infeasible sparsifications are nearly identical for both models. For the Triangle-Model the feasibility is slightly worse."
   ]
  },
  {
   "cell_type": "code",
   "execution_count": 26,
   "id": "7f70e17e-3a22-4726-ac21-d6af6f804567",
   "metadata": {},
   "outputs": [
    {
     "data": {
      "text/plain": [
       "sparsification_technique\n",
       "onion-1-1    0.874737\n",
       "onion-1-2    0.068421\n",
       "onion-1-3    0.009474\n",
       "onion-2-1    0.586316\n",
       "onion-2-2    0.070526\n",
       "onion-2-3    0.001053\n",
       "theta12-0    0.890526\n",
       "theta12-1    0.885263\n",
       "theta12-2    0.003158\n",
       "theta6-0     0.488421\n",
       "theta6-1     0.480000\n",
       "theta6-2     0.034737\n",
       "wspd2-1      0.165263\n",
       "wspd2-2      0.231579\n",
       "wspd2-3      0.154737\n",
       "wspd3-1      0.300000\n",
       "wspd3-3      0.332632\n",
       "wspd4-1      0.355789\n",
       "wspd4-3      0.449474\n",
       "wspd5-1      0.426316\n",
       "wspd5-3      0.520000\n",
       "wspd6-1      0.464211\n",
       "wspd6-3      0.576842\n",
       "wspd7-1      0.502105\n",
       "wspd7-3      0.611579\n",
       "wspd8-1      0.525263\n",
       "wspd8-3      0.640000\n",
       "yao12-0      0.890526\n",
       "yao12-1      0.885263\n",
       "yao12-2      0.003158\n",
       "yao6-0       0.635789\n",
       "yao6-1       0.623158\n",
       "yao6-2       0.033684\n",
       "Name: filename_instance, dtype: float64"
      ]
     },
     "execution_count": 26,
     "metadata": {},
     "output_type": "execute_result"
    }
   ],
   "source": [
    "only_larger_than = 5\n",
    "num_instances = t_experiments[(t_experiments[\"num_vertices\"]>=only_larger_than)][\"filename_instance\"].nunique()\n",
    "t = t_experiments[(t_experiments[\"Status\"]==3) & (t_experiments[\"num_vertices\"]>=only_larger_than)].groupby(\"sparsification_technique\")[\"filename_instance\"].nunique()/num_instances\n",
    "t"
   ]
  },
  {
   "cell_type": "code",
   "execution_count": 27,
   "metadata": {
    "collapsed": false,
    "pycharm": {
     "name": "#%%\n"
    }
   },
   "outputs": [],
   "source": [
    "#t_experiments[(t_experiments[\"Status\"]==3) & (t_experiments[\"sparsification_technique\"]==\"complete\")].iloc[1]"
   ]
  },
  {
   "cell_type": "code",
   "execution_count": 28,
   "id": "12d73052-bfff-4f69-80b9-e33d709ddf7d",
   "metadata": {},
   "outputs": [
    {
     "data": {
      "image/png": "[encoded data removed]",
      "text/plain": [
       "<Figure size 1000x300 with 2 Axes>"
      ]
     },
     "metadata": {},
     "output_type": "display_data"
    }
   ],
   "source": [
    "fig = plt.figure(figsize=(PAPER_WIDTH,3))\n",
    "t = t_experiments.copy()\n",
    "t[\"Infeasible\"] = (t[\"Status\"]==3).apply(lambda x: 100 if x else 0)\n",
    "t_ = t.groupby([\"num_vertices\", \"sparsification_technique\"])[\"Infeasible\"].mean().reset_index()\n",
    "t_\n",
    "sparsification_techniques = t[\"sparsification_technique\"].unique()\n",
    "t__ = pd.DataFrame()\n",
    "for s in sparsification_techniques:\n",
    "    column = t_[t_[\"sparsification_technique\"]==s].groupby(\"num_vertices\")[\"Infeasible\"].mean().copy()\n",
    "    t__[s]=column\n",
    "#pd.melt(t_,id_vars=[\"sparsification_technique\"], value_vars=[\"timeout\"])\n",
    "t__.sort_index(inplace=True, ascending=False)\n",
    "sns.heatmap(data=t__, cmap=\"flare_r\", xticklabels=True, yticklabels=True)\n",
    "plt.xlabel(\"\")\n",
    "plt.yticks(rotation=0)\n",
    "#plt.gca().set_xticks(range(len(list(sparsification_techniques))))\n",
    "plt.xticks(rotation=90,fontsize=10)\n",
    "#plt.set_xticklabels(list(range(len(sparsification_techniques))))\n",
    "plt.ylabel(\"Number of vertices\")\n",
    "plt.title(\"Brighter is worse.\")\n",
    "plt.tight_layout()\n",
    "plt.savefig(\"./output/feasibility.pdf\")\n",
    "plt.show()"
   ]
  },
  {
   "cell_type": "markdown",
   "id": "923080e4-12eb-4c35-80e9-739dc7a1d5f1",
   "metadata": {},
   "source": [
    "As we see above, the infeasible instances are relatively independent of the size and nearly identical for both models.\n",
    "\n",
    "Let us ignore the following sparsification techniques, because more than 10% of them are infeasible"
   ]
  },
  {
   "cell_type": "code",
   "execution_count": 29,
   "id": "917f9e65-37b3-4117-b4a1-ef59eb8249d4",
   "metadata": {},
   "outputs": [
    {
     "data": {
      "text/plain": [
       "['onion-1-1',\n",
       " 'onion-2-1',\n",
       " 'theta12-0',\n",
       " 'theta12-1',\n",
       " 'theta6-0',\n",
       " 'theta6-1',\n",
       " 'wspd2-1',\n",
       " 'wspd2-2',\n",
       " 'wspd2-3',\n",
       " 'wspd3-1',\n",
       " 'wspd3-3',\n",
       " 'wspd4-1',\n",
       " 'wspd4-3',\n",
       " 'wspd5-1',\n",
       " 'wspd5-3',\n",
       " 'wspd6-1',\n",
       " 'wspd6-3',\n",
       " 'wspd7-1',\n",
       " 'wspd7-3',\n",
       " 'wspd8-1',\n",
       " 'wspd8-3',\n",
       " 'yao12-0',\n",
       " 'yao12-1',\n",
       " 'yao6-0',\n",
       " 'yao6-1']"
      ]
     },
     "execution_count": 29,
     "metadata": {},
     "output_type": "execute_result"
    }
   ],
   "source": [
    "t = t_experiments[(t_experiments[\"Status\"]==3) & (t_experiments[\"num_vertices\"]>=only_larger_than)].groupby(\"sparsification_technique\")[\"filename_instance\"].nunique()/num_instances\n",
    "techniques_to_ignore = list(t[t>0.1].index)\n",
    "techniques_to_ignore"
   ]
  },
  {
   "cell_type": "code",
   "execution_count": 30,
   "id": "dfac962b-5eef-4930-9d6d-edec57099ed6",
   "metadata": {},
   "outputs": [],
   "source": [
    "t_experiments_feasible = t_experiments[~t_experiments[\"sparsification_technique\"].isin(techniques_to_ignore)]"
   ]
  },
  {
   "cell_type": "code",
   "execution_count": null,
   "id": "4ebcbf16-4b7c-4d60-acac-996726e564ae",
   "metadata": {},
   "outputs": [],
   "source": []
  },
  {
   "cell_type": "markdown",
   "id": "c80505e4-3c03-42fc-b516-b6a9f1833de8",
   "metadata": {},
   "source": [
    "## 2. Solution Quality\n",
    "\n",
    "Let us next look at the solution quality because bad solutions are not useful independent of how quick we can obtain them.\n",
    "\n",
    "We are using *best upper bound/best lower bound* as metric (all bounds computed with timeout)."
   ]
  },
  {
   "cell_type": "code",
   "execution_count": 31,
   "id": "96dd62e2-88c1-4ce1-83d3-509e7092e505",
   "metadata": {},
   "outputs": [],
   "source": [
    "t = t_experiments_feasible.copy()\n",
    "t=t[t[\"Status\"]!=3]\n",
    "t[\"Gap\"] = t[\"ObjVal\"]/t[\"LowerBound_best\"]"
   ]
  },
  {
   "cell_type": "code",
   "execution_count": 32,
   "id": "319f1d57-176c-4787-8037-b6b20d75435f",
   "metadata": {},
   "outputs": [
    {
     "data": {
      "text/html": [
       "<div>\n",
       "<style scoped>\n",
       "    .dataframe tbody tr th:only-of-type {\n",
       "        vertical-align: middle;\n",
       "    }\n",
       "\n",
       "    .dataframe tbody tr th {\n",
       "        vertical-align: top;\n",
       "    }\n",
       "\n",
       "    .dataframe thead th {\n",
       "        text-align: right;\n",
       "    }\n",
       "</style>\n",
       "<table border=\"1\" class=\"dataframe\">\n",
       "  <thead>\n",
       "    <tr style=\"text-align: right;\">\n",
       "      <th></th>\n",
       "      <th>Runtime</th>\n",
       "      <th>solver</th>\n",
       "      <th>pointset</th>\n",
       "      <th>instance_solver</th>\n",
       "      <th>UpperBound</th>\n",
       "      <th>MIPGap</th>\n",
       "      <th>LowerBound</th>\n",
       "      <th>ObjVal</th>\n",
       "      <th>filename_solver</th>\n",
       "      <th>Solved</th>\n",
       "      <th>...</th>\n",
       "      <th>num_vertices</th>\n",
       "      <th>filename_sparsification</th>\n",
       "      <th>instance_sparsification</th>\n",
       "      <th>size</th>\n",
       "      <th>type</th>\n",
       "      <th>id_instance</th>\n",
       "      <th>filename_instance</th>\n",
       "      <th>size_binned</th>\n",
       "      <th>LowerBound_best</th>\n",
       "      <th>Gap</th>\n",
       "    </tr>\n",
       "  </thead>\n",
       "  <tbody>\n",
       "  </tbody>\n",
       "</table>\n",
       "<p>0 rows × 27 columns</p>\n",
       "</div>"
      ],
      "text/plain": [
       "Empty DataFrame\n",
       "Columns: [Runtime, solver, pointset, instance_solver, UpperBound, MIPGap, LowerBound, ObjVal, filename_solver, Solved, id_solver, Status, GRB_OUT_Time, sparsification_technique, id_sparsification, GRB_OUT_BestBd, GRB_OUT_Incumbent, num_vertices, filename_sparsification, instance_sparsification, size, type, id_instance, filename_instance, size_binned, LowerBound_best, Gap]\n",
       "Index: []\n",
       "\n",
       "[0 rows x 27 columns]"
      ]
     },
     "execution_count": 32,
     "metadata": {},
     "output_type": "execute_result"
    }
   ],
   "source": [
    "t[(t[\"Gap\"]<0.99) & (t[\"sparsification_technique\"]==\"complete\")]"
   ]
  },
  {
   "cell_type": "code",
   "execution_count": 33,
   "id": "21c1cbdd-ea57-4d77-a33e-894bb3cba335",
   "metadata": {},
   "outputs": [
    {
     "data": {
      "image/png": "[encoded data removed]",
      "text/plain": [
       "<Figure size 500x300 with 2 Axes>"
      ]
     },
     "metadata": {},
     "output_type": "display_data"
    }
   ],
   "source": [
    "fig = plt.figure(figsize=(0.5*PAPER_WIDTH,3))\n",
    "t_ = t.groupby([\"num_vertices\", \"sparsification_technique\"])[\"Gap\"].mean().reset_index()\n",
    "sparsification_techniques = t[\"sparsification_technique\"].unique()\n",
    "t__ = pd.DataFrame()\n",
    "for s in sparsification_techniques:\n",
    "    column = t_[t_[\"sparsification_technique\"]==s].groupby(\"num_vertices\")[\"Gap\"].mean().copy()\n",
    "    t__[s]=column\n",
    "#pd.melt(t_,id_vars=[\"sparsification_technique\"], value_vars=[\"timeout\"])\n",
    "t__.sort_index(inplace=True, ascending=False)\n",
    "sns.heatmap(data=t__, cmap=\"flare_r\", xticklabels=True)\n",
    "#plt.xlabel(\"Sparsification Technique\")\n",
    "plt.xlabel(\"\")\n",
    "plt.yticks(rotation=0)\n",
    "#plt.gca().set_xticks(range(len(list(sparsification_techniques))))\n",
    "plt.xticks(rotation=90,fontsize=10)\n",
    "#plt.set_xticklabels(list(range(len(sparsification_techniques))))\n",
    "plt.ylabel(\"Number of vertices\")\n",
    "#plt.title(\"Brighter is worse.\")\n",
    "plt.title(\"Obj./LB\")\n",
    "plt.tight_layout()\n",
    "plt.savefig(\"./output/solution_quality_heatmap.pdf\")\n",
    "plt.show()"
   ]
  },
  {
   "cell_type": "code",
   "execution_count": 34,
   "id": "6c843b6f-1273-4c35-acef-ab0ba7a9fe32",
   "metadata": {},
   "outputs": [
    {
     "name": "stderr",
     "output_type": "stream",
     "text": [
      "/tmp/ipykernel_54366/2277336256.py:7: FutureWarning: \n",
      "\n",
      "The `ci` parameter is deprecated. Use `errorbar=None` for the same effect.\n",
      "\n",
      "  sns.lineplot(data=t_, x=\"x\", y=\"Gap\", hue=\"spars\", style=\"spars\",ci=None)\n"
     ]
    },
    {
     "data": {
      "image/png": "[encoded data removed]",
      "text/plain": [
       "<Figure size 500x300 with 1 Axes>"
      ]
     },
     "metadata": {},
     "output_type": "display_data"
    }
   ],
   "source": [
    "fig = plt.figure(figsize=(0.5*PAPER_WIDTH,3))\n",
    "detail_sparsification_techniques = [\"complete\", \"onion-0\", \"onion-2-3\", \"theta12-2\", \"wspd2-3\", \"yao12-2\"]\n",
    "t_ = t[t[\"sparsification_technique\"].isin(detail_sparsification_techniques)].copy()\n",
    "t_.rename(columns={\"sparsification_technique\": \"spars\"}, inplace=True)\n",
    "t_[\"x\"]=t_[\"num_vertices\"].apply(lambda x: str(int(x)))\n",
    "t_.sort_values(by=[\"num_vertices\", \"spars\"], inplace=True)\n",
    "sns.lineplot(data=t_, x=\"x\", y=\"Gap\", hue=\"spars\", style=\"spars\",ci=None)\n",
    "plt.legend(title=\"\", loc=\"lower right\")\n",
    "plt.xlabel(\"Number of vertices\")\n",
    "#plt.title(\"Lower is better.\")\n",
    "plt.tight_layout()\n",
    "plt.ylabel(\"Obj./LB\")\n",
    "plt.savefig(\"./output/solution_quality_lineplot.pdf\")\n",
    "plt.show()"
   ]
  },
  {
   "cell_type": "markdown",
   "id": "bd42f3d9-5f8d-4323-adf2-ff4a622dd062",
   "metadata": {},
   "source": [
    "We see that only theta12-2, wspd2-3, and yao12-2 yield reasonably good results. The theta-12-2 and yao12-2 seem to coincide. The WSPD2-3 has slightly better results but the difference is relatively inconsistent and small. Both seem to grow with the number of vertices and are above 1.5 for 20 vertices."
   ]
  },
  {
   "cell_type": "markdown",
   "id": "5a7cc8c3-0614-4036-a8ec-a5ec1aa56eca",
   "metadata": {},
   "source": [
    "## 2. Runtime\n",
    "\n",
    "Let us next take a look on the runtime. We are comparing a lot of different strategies which are too much for a lineplot. Instead we do a heatmap that shows us, which instances could still be solved wihtin a strict time limit. Infeasible instances are considered as unsolved (they are slightly worse but in both cases we do not obtain the desired solution from the sparsification).\n",
    "\n",
    "From this heatmap, we select a few intersting strategies for which we then also compare the concrete runtime in a lineplot."
   ]
  },
  {
   "cell_type": "code",
   "execution_count": 35,
   "id": "9b90a2dc-0c4d-40b3-abb3-2de7c3629e90",
   "metadata": {},
   "outputs": [
    {
     "data": {
      "image/png": "[encoded data removed]",
      "text/plain": [
       "<Figure size 500x300 with 2 Axes>"
      ]
     },
     "metadata": {},
     "output_type": "display_data"
    }
   ],
   "source": [
    "TIMEOUT_AFTER_S = 15\n",
    "fig = plt.figure(figsize=(0.5*PAPER_WIDTH,3))\n",
    "\n",
    "t = t_experiments_feasible.copy()\n",
    "t[\"timeout\"] = (t[\"Runtime\"]>TIMEOUT_AFTER_S).apply(lambda x: 0 if x else 100)\n",
    "t.loc[t[\"Status\"]!=2, \"timeout\"]=0\n",
    "t_ = t.groupby([\"num_vertices\", \"sparsification_technique\"])[\"timeout\"].mean().reset_index()\n",
    "t_\n",
    "sparsification_techniques = t[\"sparsification_technique\"].unique()\n",
    "t__ = pd.DataFrame()\n",
    "for s in sparsification_techniques:\n",
    "    column = t_[t_[\"sparsification_technique\"]==s].groupby(\"num_vertices\")[\"timeout\"].mean().copy()\n",
    "    t__[s]=column\n",
    "#pd.melt(t_,id_vars=[\"sparsification_technique\"], value_vars=[\"timeout\"])\n",
    "t__.sort_index(inplace=True, ascending=False)\n",
    "sns.heatmap(data=t__, cmap=\"flare_r\", xticklabels=True, vmin=0)\n",
    "#plt.xlabel(\"Sparsification Technique\")\n",
    "plt.xlabel(\"\")\n",
    "plt.yticks(rotation=0)\n",
    "#plt.gca().set_xticks(range(len(list(sparsification_techniques))))\n",
    "plt.xticks(rotation=90,fontsize=10)\n",
    "#plt.set_xticklabels(list(range(len(sparsification_techniques))))\n",
    "plt.ylabel(\"Number of vertices\")\n",
    "plt.title(f\"\\% solved within {TIMEOUT_AFTER_S}s\")\n",
    "#plt.title(f\"Solved within {TIMEOUT_AFTER_S}s. Brighter is better.\")\n",
    "plt.tight_layout()\n",
    "plt.savefig(\"./output/runtime_heatmap.pdf\")\n",
    "plt.show()"
   ]
  },
  {
   "cell_type": "code",
   "execution_count": 36,
   "id": "c09e5dc3-8b78-4540-b5d9-e3de0b01ba48",
   "metadata": {},
   "outputs": [
    {
     "name": "stderr",
     "output_type": "stream",
     "text": [
      "/tmp/ipykernel_54366/1815893901.py:8: FutureWarning: \n",
      "\n",
      "The `ci` parameter is deprecated. Use `errorbar=None` for the same effect.\n",
      "\n",
      "  sns.lineplot(data=t_, x=\"x\", y=\"Runtime\", hue=\"Sparsification\", style=\"Sparsification\", ci=None)\n"
     ]
    },
    {
     "data": {
      "image/png": "[encoded data removed]",
      "text/plain": [
       "<Figure size 500x300 with 1 Axes>"
      ]
     },
     "metadata": {},
     "output_type": "display_data"
    }
   ],
   "source": [
    "INTERESTING_STRATEGIES =[\"complete\", \"onion-0\", \"onion-2-3\", \"theta12-2\", \"wspd2-3\", \"yao12-2\"]\n",
    "fig = plt.figure(figsize=(0.5*PAPER_WIDTH,3))\n",
    "t = t_experiments_feasible.copy()\n",
    "t_ = t[t[\"sparsification_technique\"].isin(INTERESTING_STRATEGIES)].copy()\n",
    "t_.rename(columns={\"sparsification_technique\": \"Sparsification\"}, inplace=True)\n",
    "t_[\"x\"]=t_[\"num_vertices\"].apply(lambda x: str(int(x)))\n",
    "t_.sort_values(by=[\"num_vertices\", \"Sparsification\"], inplace=True)\n",
    "sns.lineplot(data=t_, x=\"x\", y=\"Runtime\", hue=\"Sparsification\", style=\"Sparsification\", ci=None)\n",
    "plt.legend(title=\"\")\n",
    "plt.xlabel(\"Number of vertices\")\n",
    "plt.tight_layout()\n",
    "plt.savefig(\"./output/runtime_lineplot.pdf\")\n",
    "plt.show()"
   ]
  },
  {
   "cell_type": "markdown",
   "id": "13eef806-14af-4bcb-b631-a0defe4b9435",
   "metadata": {},
   "source": [
    "While WSP2-3 had a small advantage for the quality, it is much slower than theta-12-2 and yao-2 (which again coincide). Solving the theta-12-2 or yao-2 happens extremely fast, within a fraction of the complete graph. WSPD2-3 is still faster than the complete graph, but e.g. for 19 vertices, the runtime is nearly identical. For 20 vertices, it only need 10% of the time (but the other two need less than 1%."
   ]
  },
  {
   "cell_type": "code",
   "execution_count": 37,
   "id": "6d713976-69f5-451e-a358-eefaa8711aed",
   "metadata": {},
   "outputs": [
    {
     "data": {
      "text/plain": [
       "sparsification_technique\n",
       "complete     94.237590\n",
       "delaunayT     0.045530\n",
       "greedyT       0.062299\n",
       "mwT           0.061143\n",
       "onion-0       0.412336\n",
       "onion-1-2     0.083159\n",
       "onion-1-3     0.144536\n",
       "onion-2-2     0.086942\n",
       "onion-2-3     0.530942\n",
       "theta12-2     1.668282\n",
       "theta6-2      0.059906\n",
       "yao12-2       1.736294\n",
       "yao6-2        0.061681\n",
       "Name: Runtime, dtype: float64"
      ]
     },
     "execution_count": 37,
     "metadata": {},
     "output_type": "execute_result"
    }
   ],
   "source": [
    "t = t_experiments_feasible.copy()\n",
    "t[t[\"num_vertices\"]==20].groupby(\"sparsification_technique\")[\"Runtime\"].mean()"
   ]
  }
 ],
 "metadata": {
  "kernelspec": {
   "display_name": "Python 3",
   "language": "python",
   "name": "python3"
  },
  "language_info": {
   "codemirror_mode": {
    "name": "ipython",
    "version": 3
   },
   "file_extension": ".py",
   "mimetype": "text/x-python",
   "name": "python",
   "nbconvert_exporter": "python",
   "pygments_lexer": "ipython3",
   "version": "3.10.12"
  }
 },
 "nbformat": 4,
 "nbformat_minor": 5
}
