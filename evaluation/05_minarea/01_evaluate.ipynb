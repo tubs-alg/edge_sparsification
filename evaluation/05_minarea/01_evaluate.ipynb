{
 "cells": [
  {
   "cell_type": "markdown",
   "id": "bd4f59c2-9e22-40ab-9592-40d7fe1cef1b",
   "metadata": {},
   "source": [
    "# Min-Area Evaluation\n",
    "\n",
    "Experiments run with a timelimit of 7200s (2hr) on algpc02. There have been two models, but the Edge-Model showed to be problematic and slower, thus, we removed it.\n",
    "\n",
    "The experimentes have been executed with CPLEX, thus, we do not have the data to analyze the progress over time for the area optimization. It does not seem to be feasible, to quickly change that. However, the two different models also take up some space."
   ]
  },
  {
   "cell_type": "code",
   "execution_count": 1,
   "id": "ae171e44-89be-4e62-b26b-8430d57a46e3",
   "metadata": {},
   "outputs": [],
   "source": [
    "import json\n",
    "import os\n",
    "import string\n",
    "import pandas as pd\n",
    "import numpy as np\n",
    "import seaborn as sns\n",
    "import matplotlib.pyplot as plt\n",
    "sns.set()\n",
    "sns.set_theme()\n",
    "plt.rcParams.update({'figure.max_open_warning': 0\n",
    "                    ,\"text.usetex\": True\n",
    "                    ,\"font.family\": \"serif\"\n",
    "                    })\n",
    "sns.set_palette(\"tab10\")\n",
    "PAPER_WIDTH = 10"
   ]
  },
  {
   "cell_type": "markdown",
   "id": "682706c5-3150-4611-abc3-b0cc55c108d3",
   "metadata": {},
   "source": [
    "## Explaining the data"
   ]
  },
  {
   "cell_type": "code",
   "execution_count": 2,
   "id": "9947288d-dd9d-4f34-9e60-47f5a411e89a",
   "metadata": {},
   "outputs": [],
   "source": [
    "t_experiments = pd.read_json(\"./00_minarea_data.json.zip\")\n",
    "t_experiments = t_experiments[t_experiments[\"Model\"]==\"Triangle\"] # Edge is instable and slow!\n",
    "t_experiments.drop(columns=[\"Model\"], inplace=True)\n",
    "full_techniques =  t_experiments[t_experiments[\"num_vertices\"]==23][\"sparsification_technique\"].unique()\n",
    "t_experiments = t_experiments[t_experiments[\"sparsification_technique\"].isin(full_techniques)]"
   ]
  },
  {
   "cell_type": "markdown",
   "id": "44ea5c38-574b-40aa-9ac9-6142efe18a96",
   "metadata": {},
   "source": [
    "* **num_vertices:** The number of vertices in this instance. Most of the instances have been created in 5-steps.\n",
    "* **sparsification_technique:** The used sparsification technique. The complete graph has \"complete\".\n",
    "* **ObjVal:** The objective value of the solution (either optimal or the best at timeout).\n",
    "* **filename_instance:** The file of the instance. Use this to distinguish different instances. The name also states something about its properties.\n",
    "* **Runtime:** The runtime in seconds. The time limit has been 3600s.\n",
    "* **Status:** The status code. 2 means solved to optimality. For sparisified instances, the instance may be solved in time but infeasible.\n",
    "* **LowerBound:** The lower bound. If Status==2, it should equal the ObjVal.\n",
    "* **solver:** Just the name of the solver. Not of relevance.\n",
    "* **LowerBound_best:** The best known lower bound for the instance (complete graph)"
   ]
  },
  {
   "cell_type": "code",
   "execution_count": 3,
   "id": "84f28cf5-3c03-4739-b232-57b2e7f14f7a",
   "metadata": {},
   "outputs": [],
   "source": [
    "lbs = t_experiments[t_experiments[\"sparsification_technique\"]==\"complete\"].groupby(\"filename_instance\")[\"LowerBound\"].max()\n",
    "t_experiments = pd.merge(left=t_experiments, right=lbs, left_on=\"filename_instance\", right_index=True, suffixes=(\"\", \"_best\"))"
   ]
  },
  {
   "cell_type": "code",
   "execution_count": 4,
   "id": "1ff11d6b-ad10-4bf4-bf67-714b55c1ff65",
   "metadata": {},
   "outputs": [
    {
     "data": {
      "text/html": [
       "<div>\n",
       "<style scoped>\n",
       "    .dataframe tbody tr th:only-of-type {\n",
       "        vertical-align: middle;\n",
       "    }\n",
       "\n",
       "    .dataframe tbody tr th {\n",
       "        vertical-align: top;\n",
       "    }\n",
       "\n",
       "    .dataframe thead th {\n",
       "        text-align: right;\n",
       "    }\n",
       "</style>\n",
       "<table border=\"1\" class=\"dataframe\">\n",
       "  <thead>\n",
       "    <tr style=\"text-align: right;\">\n",
       "      <th></th>\n",
       "      <th>MIPGap</th>\n",
       "      <th>Runtime</th>\n",
       "      <th>ObjVal</th>\n",
       "      <th>Solved</th>\n",
       "      <th>id_solver</th>\n",
       "      <th>UpperBound</th>\n",
       "      <th>solver</th>\n",
       "      <th>LowerBound</th>\n",
       "      <th>pointset</th>\n",
       "      <th>instance_solver</th>\n",
       "      <th>...</th>\n",
       "      <th>sparsification_technique</th>\n",
       "      <th>instance_sparsification</th>\n",
       "      <th>GRB_OUT_Incumbent</th>\n",
       "      <th>GRB_OUT_BestBd</th>\n",
       "      <th>id_instance</th>\n",
       "      <th>filename_instance</th>\n",
       "      <th>size</th>\n",
       "      <th>type</th>\n",
       "      <th>size_binned</th>\n",
       "      <th>LowerBound_best</th>\n",
       "    </tr>\n",
       "  </thead>\n",
       "  <tbody>\n",
       "    <tr>\n",
       "      <th>76</th>\n",
       "      <td>0.0</td>\n",
       "      <td>4.630881</td>\n",
       "      <td>149275.000000</td>\n",
       "      <td>True</td>\n",
       "      <td>iss036e025984_large_18_0_complete_Min_area</td>\n",
       "      <td>-1</td>\n",
       "      <td>Min_area</td>\n",
       "      <td>149275.000000</td>\n",
       "      <td>iss036e025984_large_18_0</td>\n",
       "      <td>iss036e025984_large_18_0_complete</td>\n",
       "      <td>...</td>\n",
       "      <td>complete</td>\n",
       "      <td>iss036e025984_large_18_0</td>\n",
       "      <td>NaN</td>\n",
       "      <td>NaN</td>\n",
       "      <td>iss036e025984_large_18_0</td>\n",
       "      <td>iss036e025984_large_18_0.json</td>\n",
       "      <td>18</td>\n",
       "      <td>image_brightness</td>\n",
       "      <td>{'closed': 'right', 'closed_left': False, 'clo...</td>\n",
       "      <td>149275.000000</td>\n",
       "    </tr>\n",
       "    <tr>\n",
       "      <th>73</th>\n",
       "      <td>0.0</td>\n",
       "      <td>0.049432</td>\n",
       "      <td>445322.500000</td>\n",
       "      <td>True</td>\n",
       "      <td>iss036e025984_large_18_0_delaunayT_Min_area</td>\n",
       "      <td>-1</td>\n",
       "      <td>Min_area</td>\n",
       "      <td>445322.500000</td>\n",
       "      <td>iss036e025984_large_18_0</td>\n",
       "      <td>iss036e025984_large_18_0_delaunayT</td>\n",
       "      <td>...</td>\n",
       "      <td>delaunayT</td>\n",
       "      <td>iss036e025984_large_18_0</td>\n",
       "      <td>NaN</td>\n",
       "      <td>NaN</td>\n",
       "      <td>iss036e025984_large_18_0</td>\n",
       "      <td>iss036e025984_large_18_0.json</td>\n",
       "      <td>18</td>\n",
       "      <td>image_brightness</td>\n",
       "      <td>{'closed': 'right', 'closed_left': False, 'clo...</td>\n",
       "      <td>149275.000000</td>\n",
       "    </tr>\n",
       "    <tr>\n",
       "      <th>90</th>\n",
       "      <td>0.0</td>\n",
       "      <td>0.068796</td>\n",
       "      <td>449966.000000</td>\n",
       "      <td>True</td>\n",
       "      <td>iss036e025984_large_18_0_greedyT_Min_area</td>\n",
       "      <td>-1</td>\n",
       "      <td>Min_area</td>\n",
       "      <td>449966.000000</td>\n",
       "      <td>iss036e025984_large_18_0</td>\n",
       "      <td>iss036e025984_large_18_0_greedyT</td>\n",
       "      <td>...</td>\n",
       "      <td>greedyT</td>\n",
       "      <td>iss036e025984_large_18_0</td>\n",
       "      <td>NaN</td>\n",
       "      <td>NaN</td>\n",
       "      <td>iss036e025984_large_18_0</td>\n",
       "      <td>iss036e025984_large_18_0.json</td>\n",
       "      <td>18</td>\n",
       "      <td>image_brightness</td>\n",
       "      <td>{'closed': 'right', 'closed_left': False, 'clo...</td>\n",
       "      <td>149275.000000</td>\n",
       "    </tr>\n",
       "    <tr>\n",
       "      <th>78</th>\n",
       "      <td>0.0</td>\n",
       "      <td>0.067972</td>\n",
       "      <td>449966.000000</td>\n",
       "      <td>True</td>\n",
       "      <td>iss036e025984_large_18_0_mwT_Min_area</td>\n",
       "      <td>-1</td>\n",
       "      <td>Min_area</td>\n",
       "      <td>449966.000000</td>\n",
       "      <td>iss036e025984_large_18_0</td>\n",
       "      <td>iss036e025984_large_18_0_mwT</td>\n",
       "      <td>...</td>\n",
       "      <td>mwT</td>\n",
       "      <td>iss036e025984_large_18_0</td>\n",
       "      <td>NaN</td>\n",
       "      <td>NaN</td>\n",
       "      <td>iss036e025984_large_18_0</td>\n",
       "      <td>iss036e025984_large_18_0.json</td>\n",
       "      <td>18</td>\n",
       "      <td>image_brightness</td>\n",
       "      <td>{'closed': 'right', 'closed_left': False, 'clo...</td>\n",
       "      <td>149275.000000</td>\n",
       "    </tr>\n",
       "    <tr>\n",
       "      <th>79</th>\n",
       "      <td>0.0</td>\n",
       "      <td>0.210833</td>\n",
       "      <td>258003.500000</td>\n",
       "      <td>True</td>\n",
       "      <td>iss036e025984_large_18_0_onion-0_Min_area</td>\n",
       "      <td>-1</td>\n",
       "      <td>Min_area</td>\n",
       "      <td>258003.500000</td>\n",
       "      <td>iss036e025984_large_18_0</td>\n",
       "      <td>iss036e025984_large_18_0_onion-0</td>\n",
       "      <td>...</td>\n",
       "      <td>onion-0</td>\n",
       "      <td>iss036e025984_large_18_0</td>\n",
       "      <td>NaN</td>\n",
       "      <td>NaN</td>\n",
       "      <td>iss036e025984_large_18_0</td>\n",
       "      <td>iss036e025984_large_18_0.json</td>\n",
       "      <td>18</td>\n",
       "      <td>image_brightness</td>\n",
       "      <td>{'closed': 'right', 'closed_left': False, 'clo...</td>\n",
       "      <td>149275.000000</td>\n",
       "    </tr>\n",
       "    <tr>\n",
       "      <th>...</th>\n",
       "      <td>...</td>\n",
       "      <td>...</td>\n",
       "      <td>...</td>\n",
       "      <td>...</td>\n",
       "      <td>...</td>\n",
       "      <td>...</td>\n",
       "      <td>...</td>\n",
       "      <td>...</td>\n",
       "      <td>...</td>\n",
       "      <td>...</td>\n",
       "      <td>...</td>\n",
       "      <td>...</td>\n",
       "      <td>...</td>\n",
       "      <td>...</td>\n",
       "      <td>...</td>\n",
       "      <td>...</td>\n",
       "      <td>...</td>\n",
       "      <td>...</td>\n",
       "      <td>...</td>\n",
       "      <td>...</td>\n",
       "      <td>...</td>\n",
       "    </tr>\n",
       "    <tr>\n",
       "      <th>27245</th>\n",
       "      <td>0.0</td>\n",
       "      <td>0.006822</td>\n",
       "      <td>0.000000</td>\n",
       "      <td>False</td>\n",
       "      <td>20210902_uniform_real_23_1_yao12-1_Min_area</td>\n",
       "      <td>-1</td>\n",
       "      <td>Min_area</td>\n",
       "      <td>-1.000000</td>\n",
       "      <td>20210902_uniform_real_23_1</td>\n",
       "      <td>20210902_uniform_real_23_1_yao12-1</td>\n",
       "      <td>...</td>\n",
       "      <td>yao12-1</td>\n",
       "      <td>20210902_uniform_real_23_1</td>\n",
       "      <td>NaN</td>\n",
       "      <td>NaN</td>\n",
       "      <td>20210902_uniform_real_23_1</td>\n",
       "      <td>20210902_uniform_real_23_1.json</td>\n",
       "      <td>23</td>\n",
       "      <td>uniform_real</td>\n",
       "      <td>None</td>\n",
       "      <td>25767.258452</td>\n",
       "    </tr>\n",
       "    <tr>\n",
       "      <th>27239</th>\n",
       "      <td>0.0</td>\n",
       "      <td>1.663057</td>\n",
       "      <td>43518.154382</td>\n",
       "      <td>True</td>\n",
       "      <td>20210902_uniform_real_23_1_yao12-2_Min_area</td>\n",
       "      <td>-1</td>\n",
       "      <td>Min_area</td>\n",
       "      <td>43518.154382</td>\n",
       "      <td>20210902_uniform_real_23_1</td>\n",
       "      <td>20210902_uniform_real_23_1_yao12-2</td>\n",
       "      <td>...</td>\n",
       "      <td>yao12-2</td>\n",
       "      <td>20210902_uniform_real_23_1</td>\n",
       "      <td>NaN</td>\n",
       "      <td>NaN</td>\n",
       "      <td>20210902_uniform_real_23_1</td>\n",
       "      <td>20210902_uniform_real_23_1.json</td>\n",
       "      <td>23</td>\n",
       "      <td>uniform_real</td>\n",
       "      <td>None</td>\n",
       "      <td>25767.258452</td>\n",
       "    </tr>\n",
       "    <tr>\n",
       "      <th>27248</th>\n",
       "      <td>0.0</td>\n",
       "      <td>0.004134</td>\n",
       "      <td>0.000000</td>\n",
       "      <td>False</td>\n",
       "      <td>20210902_uniform_real_23_1_yao6-0_Min_area</td>\n",
       "      <td>-1</td>\n",
       "      <td>Min_area</td>\n",
       "      <td>-1.000000</td>\n",
       "      <td>20210902_uniform_real_23_1</td>\n",
       "      <td>20210902_uniform_real_23_1_yao6-0</td>\n",
       "      <td>...</td>\n",
       "      <td>yao6-0</td>\n",
       "      <td>20210902_uniform_real_23_1</td>\n",
       "      <td>NaN</td>\n",
       "      <td>NaN</td>\n",
       "      <td>20210902_uniform_real_23_1</td>\n",
       "      <td>20210902_uniform_real_23_1.json</td>\n",
       "      <td>23</td>\n",
       "      <td>uniform_real</td>\n",
       "      <td>None</td>\n",
       "      <td>25767.258452</td>\n",
       "    </tr>\n",
       "    <tr>\n",
       "      <th>27242</th>\n",
       "      <td>0.0</td>\n",
       "      <td>0.004782</td>\n",
       "      <td>0.000000</td>\n",
       "      <td>False</td>\n",
       "      <td>20210902_uniform_real_23_1_yao6-1_Min_area</td>\n",
       "      <td>-1</td>\n",
       "      <td>Min_area</td>\n",
       "      <td>-1.000000</td>\n",
       "      <td>20210902_uniform_real_23_1</td>\n",
       "      <td>20210902_uniform_real_23_1_yao6-1</td>\n",
       "      <td>...</td>\n",
       "      <td>yao6-1</td>\n",
       "      <td>20210902_uniform_real_23_1</td>\n",
       "      <td>NaN</td>\n",
       "      <td>NaN</td>\n",
       "      <td>20210902_uniform_real_23_1</td>\n",
       "      <td>20210902_uniform_real_23_1.json</td>\n",
       "      <td>23</td>\n",
       "      <td>uniform_real</td>\n",
       "      <td>None</td>\n",
       "      <td>25767.258452</td>\n",
       "    </tr>\n",
       "    <tr>\n",
       "      <th>27247</th>\n",
       "      <td>0.0</td>\n",
       "      <td>0.114974</td>\n",
       "      <td>53199.668512</td>\n",
       "      <td>True</td>\n",
       "      <td>20210902_uniform_real_23_1_yao6-2_Min_area</td>\n",
       "      <td>-1</td>\n",
       "      <td>Min_area</td>\n",
       "      <td>53199.668512</td>\n",
       "      <td>20210902_uniform_real_23_1</td>\n",
       "      <td>20210902_uniform_real_23_1_yao6-2</td>\n",
       "      <td>...</td>\n",
       "      <td>yao6-2</td>\n",
       "      <td>20210902_uniform_real_23_1</td>\n",
       "      <td>NaN</td>\n",
       "      <td>NaN</td>\n",
       "      <td>20210902_uniform_real_23_1</td>\n",
       "      <td>20210902_uniform_real_23_1.json</td>\n",
       "      <td>23</td>\n",
       "      <td>uniform_real</td>\n",
       "      <td>None</td>\n",
       "      <td>25767.258452</td>\n",
       "    </tr>\n",
       "  </tbody>\n",
       "</table>\n",
       "<p>22948 rows × 26 columns</p>\n",
       "</div>"
      ],
      "text/plain": [
       "       MIPGap   Runtime         ObjVal  Solved  \\\n",
       "76        0.0  4.630881  149275.000000    True   \n",
       "73        0.0  0.049432  445322.500000    True   \n",
       "90        0.0  0.068796  449966.000000    True   \n",
       "78        0.0  0.067972  449966.000000    True   \n",
       "79        0.0  0.210833  258003.500000    True   \n",
       "...       ...       ...            ...     ...   \n",
       "27245     0.0  0.006822       0.000000   False   \n",
       "27239     0.0  1.663057   43518.154382    True   \n",
       "27248     0.0  0.004134       0.000000   False   \n",
       "27242     0.0  0.004782       0.000000   False   \n",
       "27247     0.0  0.114974   53199.668512    True   \n",
       "\n",
       "                                         id_solver  UpperBound    solver  \\\n",
       "76      iss036e025984_large_18_0_complete_Min_area          -1  Min_area   \n",
       "73     iss036e025984_large_18_0_delaunayT_Min_area          -1  Min_area   \n",
       "90       iss036e025984_large_18_0_greedyT_Min_area          -1  Min_area   \n",
       "78           iss036e025984_large_18_0_mwT_Min_area          -1  Min_area   \n",
       "79       iss036e025984_large_18_0_onion-0_Min_area          -1  Min_area   \n",
       "...                                            ...         ...       ...   \n",
       "27245  20210902_uniform_real_23_1_yao12-1_Min_area          -1  Min_area   \n",
       "27239  20210902_uniform_real_23_1_yao12-2_Min_area          -1  Min_area   \n",
       "27248   20210902_uniform_real_23_1_yao6-0_Min_area          -1  Min_area   \n",
       "27242   20210902_uniform_real_23_1_yao6-1_Min_area          -1  Min_area   \n",
       "27247   20210902_uniform_real_23_1_yao6-2_Min_area          -1  Min_area   \n",
       "\n",
       "          LowerBound                    pointset  \\\n",
       "76     149275.000000    iss036e025984_large_18_0   \n",
       "73     445322.500000    iss036e025984_large_18_0   \n",
       "90     449966.000000    iss036e025984_large_18_0   \n",
       "78     449966.000000    iss036e025984_large_18_0   \n",
       "79     258003.500000    iss036e025984_large_18_0   \n",
       "...              ...                         ...   \n",
       "27245      -1.000000  20210902_uniform_real_23_1   \n",
       "27239   43518.154382  20210902_uniform_real_23_1   \n",
       "27248      -1.000000  20210902_uniform_real_23_1   \n",
       "27242      -1.000000  20210902_uniform_real_23_1   \n",
       "27247   53199.668512  20210902_uniform_real_23_1   \n",
       "\n",
       "                          instance_solver  ... sparsification_technique  \\\n",
       "76      iss036e025984_large_18_0_complete  ...                 complete   \n",
       "73     iss036e025984_large_18_0_delaunayT  ...                delaunayT   \n",
       "90       iss036e025984_large_18_0_greedyT  ...                  greedyT   \n",
       "78           iss036e025984_large_18_0_mwT  ...                      mwT   \n",
       "79       iss036e025984_large_18_0_onion-0  ...                  onion-0   \n",
       "...                                   ...  ...                      ...   \n",
       "27245  20210902_uniform_real_23_1_yao12-1  ...                  yao12-1   \n",
       "27239  20210902_uniform_real_23_1_yao12-2  ...                  yao12-2   \n",
       "27248   20210902_uniform_real_23_1_yao6-0  ...                   yao6-0   \n",
       "27242   20210902_uniform_real_23_1_yao6-1  ...                   yao6-1   \n",
       "27247   20210902_uniform_real_23_1_yao6-2  ...                   yao6-2   \n",
       "\n",
       "          instance_sparsification GRB_OUT_Incumbent GRB_OUT_BestBd  \\\n",
       "76       iss036e025984_large_18_0               NaN            NaN   \n",
       "73       iss036e025984_large_18_0               NaN            NaN   \n",
       "90       iss036e025984_large_18_0               NaN            NaN   \n",
       "78       iss036e025984_large_18_0               NaN            NaN   \n",
       "79       iss036e025984_large_18_0               NaN            NaN   \n",
       "...                           ...               ...            ...   \n",
       "27245  20210902_uniform_real_23_1               NaN            NaN   \n",
       "27239  20210902_uniform_real_23_1               NaN            NaN   \n",
       "27248  20210902_uniform_real_23_1               NaN            NaN   \n",
       "27242  20210902_uniform_real_23_1               NaN            NaN   \n",
       "27247  20210902_uniform_real_23_1               NaN            NaN   \n",
       "\n",
       "                      id_instance                filename_instance size  \\\n",
       "76       iss036e025984_large_18_0    iss036e025984_large_18_0.json   18   \n",
       "73       iss036e025984_large_18_0    iss036e025984_large_18_0.json   18   \n",
       "90       iss036e025984_large_18_0    iss036e025984_large_18_0.json   18   \n",
       "78       iss036e025984_large_18_0    iss036e025984_large_18_0.json   18   \n",
       "79       iss036e025984_large_18_0    iss036e025984_large_18_0.json   18   \n",
       "...                           ...                              ...  ...   \n",
       "27245  20210902_uniform_real_23_1  20210902_uniform_real_23_1.json   23   \n",
       "27239  20210902_uniform_real_23_1  20210902_uniform_real_23_1.json   23   \n",
       "27248  20210902_uniform_real_23_1  20210902_uniform_real_23_1.json   23   \n",
       "27242  20210902_uniform_real_23_1  20210902_uniform_real_23_1.json   23   \n",
       "27247  20210902_uniform_real_23_1  20210902_uniform_real_23_1.json   23   \n",
       "\n",
       "                   type                                        size_binned  \\\n",
       "76     image_brightness  {'closed': 'right', 'closed_left': False, 'clo...   \n",
       "73     image_brightness  {'closed': 'right', 'closed_left': False, 'clo...   \n",
       "90     image_brightness  {'closed': 'right', 'closed_left': False, 'clo...   \n",
       "78     image_brightness  {'closed': 'right', 'closed_left': False, 'clo...   \n",
       "79     image_brightness  {'closed': 'right', 'closed_left': False, 'clo...   \n",
       "...                 ...                                                ...   \n",
       "27245      uniform_real                                               None   \n",
       "27239      uniform_real                                               None   \n",
       "27248      uniform_real                                               None   \n",
       "27242      uniform_real                                               None   \n",
       "27247      uniform_real                                               None   \n",
       "\n",
       "       LowerBound_best  \n",
       "76       149275.000000  \n",
       "73       149275.000000  \n",
       "90       149275.000000  \n",
       "78       149275.000000  \n",
       "79       149275.000000  \n",
       "...                ...  \n",
       "27245     25767.258452  \n",
       "27239     25767.258452  \n",
       "27248     25767.258452  \n",
       "27242     25767.258452  \n",
       "27247     25767.258452  \n",
       "\n",
       "[22948 rows x 26 columns]"
      ]
     },
     "execution_count": 4,
     "metadata": {},
     "output_type": "execute_result"
    }
   ],
   "source": [
    "t_experiments"
   ]
  },
  {
   "cell_type": "code",
   "execution_count": 5,
   "id": "3a496210-6320-420b-a03b-c5fbea984f6f",
   "metadata": {},
   "outputs": [
    {
     "data": {
      "text/html": [
       "<div>\n",
       "<style scoped>\n",
       "    .dataframe tbody tr th:only-of-type {\n",
       "        vertical-align: middle;\n",
       "    }\n",
       "\n",
       "    .dataframe tbody tr th {\n",
       "        vertical-align: top;\n",
       "    }\n",
       "\n",
       "    .dataframe thead th {\n",
       "        text-align: right;\n",
       "    }\n",
       "</style>\n",
       "<table border=\"1\" class=\"dataframe\">\n",
       "  <thead>\n",
       "    <tr style=\"text-align: right;\">\n",
       "      <th></th>\n",
       "      <th>MIPGap</th>\n",
       "      <th>Runtime</th>\n",
       "      <th>ObjVal</th>\n",
       "      <th>Solved</th>\n",
       "      <th>id_solver</th>\n",
       "      <th>UpperBound</th>\n",
       "      <th>solver</th>\n",
       "      <th>LowerBound</th>\n",
       "      <th>pointset</th>\n",
       "      <th>instance_solver</th>\n",
       "      <th>...</th>\n",
       "      <th>sparsification_technique</th>\n",
       "      <th>instance_sparsification</th>\n",
       "      <th>GRB_OUT_Incumbent</th>\n",
       "      <th>GRB_OUT_BestBd</th>\n",
       "      <th>id_instance</th>\n",
       "      <th>filename_instance</th>\n",
       "      <th>size</th>\n",
       "      <th>type</th>\n",
       "      <th>size_binned</th>\n",
       "      <th>LowerBound_best</th>\n",
       "    </tr>\n",
       "  </thead>\n",
       "  <tbody>\n",
       "  </tbody>\n",
       "</table>\n",
       "<p>0 rows × 26 columns</p>\n",
       "</div>"
      ],
      "text/plain": [
       "Empty DataFrame\n",
       "Columns: [MIPGap, Runtime, ObjVal, Solved, id_solver, UpperBound, solver, LowerBound, pointset, instance_solver, filename_solver, Status, GRB_OUT_Time, id_sparsification, filename_sparsification, num_vertices, sparsification_technique, instance_sparsification, GRB_OUT_Incumbent, GRB_OUT_BestBd, id_instance, filename_instance, size, type, size_binned, LowerBound_best]\n",
       "Index: []\n",
       "\n",
       "[0 rows x 26 columns]"
      ]
     },
     "execution_count": 5,
     "metadata": {},
     "output_type": "execute_result"
    }
   ],
   "source": [
    "t_experiments[t_experiments[\"LowerBound\"]>1.01*t_experiments[\"ObjVal\"]]"
   ]
  },
  {
   "cell_type": "code",
   "execution_count": 6,
   "id": "3e53c051-2cbb-4165-b531-fc21c6498448",
   "metadata": {},
   "outputs": [
    {
     "data": {
      "text/plain": [
       "<AxesSubplot: ylabel='Frequency'>"
      ]
     },
     "execution_count": 6,
     "metadata": {},
     "output_type": "execute_result"
    },
    {
     "data": {
      "image/png": "[encoded data removed]",
      "text/plain": [
       "<Figure size 640x480 with 1 Axes>"
      ]
     },
     "metadata": {},
     "output_type": "display_data"
    }
   ],
   "source": [
    "t_experiments[\"num_vertices\"].plot.hist()"
   ]
  },
  {
   "cell_type": "markdown",
   "id": "ec1e901b-f7ce-46e3-a7b3-cc6341caa0b6",
   "metadata": {},
   "source": [
    "## 1. Feasibility\n",
    "\n",
    "Quite a lot of sparsifications instances are barely feasible. Luckily the infeasible sparsifications are nearly identical for both models. For the Triangle-Model the feasibility is slightly worse."
   ]
  },
  {
   "cell_type": "code",
   "execution_count": 7,
   "id": "7f70e17e-3a22-4726-ac21-d6af6f804567",
   "metadata": {},
   "outputs": [
    {
     "data": {
      "text/plain": [
       "sparsification_technique\n",
       "onion-1-1    0.874737\n",
       "onion-2-1    0.586316\n",
       "theta12-0    0.890526\n",
       "theta12-1    0.885263\n",
       "theta12-2    0.003158\n",
       "theta6-0     0.488421\n",
       "theta6-1     0.480000\n",
       "theta6-2     0.034737\n",
       "wspd2-3      0.154737\n",
       "yao12-0      0.890526\n",
       "yao12-1      0.885263\n",
       "yao12-2      0.003158\n",
       "yao6-0       0.635789\n",
       "yao6-1       0.623158\n",
       "yao6-2       0.033684\n",
       "Name: filename_instance, dtype: float64"
      ]
     },
     "execution_count": 7,
     "metadata": {},
     "output_type": "execute_result"
    }
   ],
   "source": [
    "only_larger_than = 5\n",
    "num_instances = t_experiments[(t_experiments[\"num_vertices\"]>=only_larger_than)][\"filename_instance\"].nunique()\n",
    "t = t_experiments[(t_experiments[\"Status\"]==3) & (t_experiments[\"num_vertices\"]>=only_larger_than)].groupby(\"sparsification_technique\")[\"filename_instance\"].nunique()/num_instances\n",
    "t"
   ]
  },
  {
   "cell_type": "code",
   "execution_count": 8,
   "metadata": {
    "collapsed": false,
    "pycharm": {
     "name": "#%%\n"
    }
   },
   "outputs": [],
   "source": [
    "#t_experiments[(t_experiments[\"Status\"]==3) & (t_experiments[\"sparsification_technique\"]==\"complete\")].iloc[1]"
   ]
  },
  {
   "cell_type": "code",
   "execution_count": 9,
   "id": "12d73052-bfff-4f69-80b9-e33d709ddf7d",
   "metadata": {},
   "outputs": [
    {
     "data": {
      "image/png": "[encoded data removed]",
      "text/plain": [
       "<Figure size 1000x300 with 2 Axes>"
      ]
     },
     "metadata": {},
     "output_type": "display_data"
    }
   ],
   "source": [
    "fig = plt.figure(figsize=(PAPER_WIDTH,3))\n",
    "t = t_experiments.copy()\n",
    "t[\"Infeasible\"] = (t[\"Status\"]==3).apply(lambda x: 100 if x else 0)\n",
    "t_ = t.groupby([\"num_vertices\", \"sparsification_technique\"])[\"Infeasible\"].mean().reset_index()\n",
    "t_\n",
    "sparsification_techniques = t[\"sparsification_technique\"].unique()\n",
    "t__ = pd.DataFrame()\n",
    "for s in sparsification_techniques:\n",
    "    column = t_[t_[\"sparsification_technique\"]==s].groupby(\"num_vertices\")[\"Infeasible\"].mean().copy()\n",
    "    t__[s]=column\n",
    "#pd.melt(t_,id_vars=[\"sparsification_technique\"], value_vars=[\"timeout\"])\n",
    "t__.sort_index(inplace=True, ascending=False)\n",
    "sns.heatmap(data=t__, cmap=\"flare_r\", xticklabels=True, yticklabels=True)\n",
    "plt.xlabel(\"\")\n",
    "plt.yticks(rotation=0)\n",
    "#plt.gca().set_xticks(range(len(list(sparsification_techniques))))\n",
    "plt.xticks(rotation=90,fontsize=10)\n",
    "#plt.set_xticklabels(list(range(len(sparsification_techniques))))\n",
    "plt.ylabel(\"Number of vertices\")\n",
    "plt.title(\"Brighter is worse.\")\n",
    "plt.tight_layout()\n",
    "plt.savefig(\"./output/feasibility.pdf\")\n",
    "plt.show()"
   ]
  },
  {
   "cell_type": "markdown",
   "id": "923080e4-12eb-4c35-80e9-739dc7a1d5f1",
   "metadata": {},
   "source": [
    "As we see above, the infeasible instances are relatively independent of the size and nearly identical for both models.\n",
    "\n",
    "Let us ignore the following sparsification techniques, because more than 10% of them are infeasible"
   ]
  },
  {
   "cell_type": "code",
   "execution_count": 10,
   "id": "917f9e65-37b3-4117-b4a1-ef59eb8249d4",
   "metadata": {},
   "outputs": [
    {
     "data": {
      "text/plain": [
       "['onion-1-1',\n",
       " 'onion-2-1',\n",
       " 'theta12-0',\n",
       " 'theta12-1',\n",
       " 'theta6-0',\n",
       " 'theta6-1',\n",
       " 'wspd2-3',\n",
       " 'yao12-0',\n",
       " 'yao12-1',\n",
       " 'yao6-0',\n",
       " 'yao6-1']"
      ]
     },
     "execution_count": 10,
     "metadata": {},
     "output_type": "execute_result"
    }
   ],
   "source": [
    "t = t_experiments[(t_experiments[\"Status\"]==3) & (t_experiments[\"num_vertices\"]>=only_larger_than)].groupby(\"sparsification_technique\")[\"filename_instance\"].nunique()/num_instances\n",
    "techniques_to_ignore = list(t[t>0.1].index)\n",
    "techniques_to_ignore"
   ]
  },
  {
   "cell_type": "code",
   "execution_count": 11,
   "id": "dfac962b-5eef-4930-9d6d-edec57099ed6",
   "metadata": {},
   "outputs": [],
   "source": [
    "t_experiments_feasible = t_experiments[~t_experiments[\"sparsification_technique\"].isin(techniques_to_ignore)]"
   ]
  },
  {
   "cell_type": "code",
   "execution_count": null,
   "id": "4ebcbf16-4b7c-4d60-acac-996726e564ae",
   "metadata": {},
   "outputs": [],
   "source": []
  },
  {
   "cell_type": "markdown",
   "id": "c80505e4-3c03-42fc-b516-b6a9f1833de8",
   "metadata": {},
   "source": [
    "## 2. Solution Quality\n",
    "\n",
    "Let us next look at the solution quality because bad solutions are not useful independent of how quick we can obtain them.\n",
    "\n",
    "We are using *best upper bound/best lower bound* as metric (all bounds computed with timeout)."
   ]
  },
  {
   "cell_type": "code",
   "execution_count": 12,
   "id": "96dd62e2-88c1-4ce1-83d3-509e7092e505",
   "metadata": {},
   "outputs": [],
   "source": [
    "t = t_experiments_feasible.copy()\n",
    "t=t[t[\"Status\"]!=3]\n",
    "t[\"Gap\"] = t[\"ObjVal\"]/t[\"LowerBound_best\"]"
   ]
  },
  {
   "cell_type": "code",
   "execution_count": 13,
   "id": "319f1d57-176c-4787-8037-b6b20d75435f",
   "metadata": {},
   "outputs": [
    {
     "data": {
      "text/html": [
       "<div>\n",
       "<style scoped>\n",
       "    .dataframe tbody tr th:only-of-type {\n",
       "        vertical-align: middle;\n",
       "    }\n",
       "\n",
       "    .dataframe tbody tr th {\n",
       "        vertical-align: top;\n",
       "    }\n",
       "\n",
       "    .dataframe thead th {\n",
       "        text-align: right;\n",
       "    }\n",
       "</style>\n",
       "<table border=\"1\" class=\"dataframe\">\n",
       "  <thead>\n",
       "    <tr style=\"text-align: right;\">\n",
       "      <th></th>\n",
       "      <th>MIPGap</th>\n",
       "      <th>Runtime</th>\n",
       "      <th>ObjVal</th>\n",
       "      <th>Solved</th>\n",
       "      <th>id_solver</th>\n",
       "      <th>UpperBound</th>\n",
       "      <th>solver</th>\n",
       "      <th>LowerBound</th>\n",
       "      <th>pointset</th>\n",
       "      <th>instance_solver</th>\n",
       "      <th>...</th>\n",
       "      <th>instance_sparsification</th>\n",
       "      <th>GRB_OUT_Incumbent</th>\n",
       "      <th>GRB_OUT_BestBd</th>\n",
       "      <th>id_instance</th>\n",
       "      <th>filename_instance</th>\n",
       "      <th>size</th>\n",
       "      <th>type</th>\n",
       "      <th>size_binned</th>\n",
       "      <th>LowerBound_best</th>\n",
       "      <th>Gap</th>\n",
       "    </tr>\n",
       "  </thead>\n",
       "  <tbody>\n",
       "  </tbody>\n",
       "</table>\n",
       "<p>0 rows × 27 columns</p>\n",
       "</div>"
      ],
      "text/plain": [
       "Empty DataFrame\n",
       "Columns: [MIPGap, Runtime, ObjVal, Solved, id_solver, UpperBound, solver, LowerBound, pointset, instance_solver, filename_solver, Status, GRB_OUT_Time, id_sparsification, filename_sparsification, num_vertices, sparsification_technique, instance_sparsification, GRB_OUT_Incumbent, GRB_OUT_BestBd, id_instance, filename_instance, size, type, size_binned, LowerBound_best, Gap]\n",
       "Index: []\n",
       "\n",
       "[0 rows x 27 columns]"
      ]
     },
     "execution_count": 13,
     "metadata": {},
     "output_type": "execute_result"
    }
   ],
   "source": [
    "t[(t[\"Gap\"]<0.99) & (t[\"sparsification_technique\"]==\"complete\")]"
   ]
  },
  {
   "cell_type": "code",
   "execution_count": 14,
   "id": "21c1cbdd-ea57-4d77-a33e-894bb3cba335",
   "metadata": {},
   "outputs": [
    {
     "data": {
      "image/png": "[encoded data removed]",
      "text/plain": [
       "<Figure size 500x300 with 2 Axes>"
      ]
     },
     "metadata": {},
     "output_type": "display_data"
    }
   ],
   "source": [
    "fig = plt.figure(figsize=(0.5*PAPER_WIDTH,3))\n",
    "t_ = t.groupby([\"num_vertices\", \"sparsification_technique\"])[\"Gap\"].mean().reset_index()\n",
    "sparsification_techniques = t[\"sparsification_technique\"].unique()\n",
    "t__ = pd.DataFrame()\n",
    "for s in sparsification_techniques:\n",
    "    column = t_[t_[\"sparsification_technique\"]==s].groupby(\"num_vertices\")[\"Gap\"].mean().copy()\n",
    "    t__[s]=column\n",
    "#pd.melt(t_,id_vars=[\"sparsification_technique\"], value_vars=[\"timeout\"])\n",
    "t__.sort_index(inplace=True, ascending=False)\n",
    "sns.heatmap(data=t__, cmap=\"flare_r\", xticklabels=True)\n",
    "#plt.xlabel(\"Sparsification Technique\")\n",
    "plt.xlabel(\"\")\n",
    "plt.yticks(rotation=0)\n",
    "#plt.gca().set_xticks(range(len(list(sparsification_techniques))))\n",
    "plt.xticks(rotation=90,fontsize=10)\n",
    "#plt.set_xticklabels(list(range(len(sparsification_techniques))))\n",
    "plt.ylabel(\"Number of vertices\")\n",
    "#plt.title(\"Brighter is worse.\")\n",
    "plt.title(\"Obj./LB\")\n",
    "plt.tight_layout()\n",
    "plt.savefig(\"./output/solution_quality_heatmap.pdf\")\n",
    "plt.show()"
   ]
  },
  {
   "cell_type": "code",
   "execution_count": 15,
   "id": "6c843b6f-1273-4c35-acef-ab0ba7a9fe32",
   "metadata": {},
   "outputs": [
    {
     "name": "stderr",
     "output_type": "stream",
     "text": [
      "/tmp/ipykernel_1545144/3317444741.py:7: FutureWarning: \n",
      "\n",
      "The `ci` parameter is deprecated. Use `errorbar=None` for the same effect.\n",
      "\n",
      "  sns.lineplot(data=t_, x=\"x\", y=\"Gap\", hue=\"spars\", style=\"spars\",ci=None)\n"
     ]
    },
    {
     "data": {
      "image/png": "[encoded data removed]",
      "text/plain": [
       "<Figure size 500x300 with 1 Axes>"
      ]
     },
     "metadata": {},
     "output_type": "display_data"
    }
   ],
   "source": [
    "fig = plt.figure(figsize=(0.5*PAPER_WIDTH,3))\n",
    "detail_sparsification_techniques = [\"complete\", \"onion-0\", \"theta12-2\", \"wspd2-3\", \"yao12-2\"]\n",
    "t_ = t[t[\"sparsification_technique\"].isin(detail_sparsification_techniques)].copy()\n",
    "t_.rename(columns={\"sparsification_technique\": \"spars\"}, inplace=True)\n",
    "t_[\"x\"]=t_[\"num_vertices\"].apply(lambda x: str(int(x)))\n",
    "t_.sort_values(by=[\"num_vertices\", \"spars\"], inplace=True)\n",
    "sns.lineplot(data=t_, x=\"x\", y=\"Gap\", hue=\"spars\", style=\"spars\",ci=None)\n",
    "plt.legend(title=\"\", loc=\"lower right\")\n",
    "plt.xlabel(\"Number of vertices\")\n",
    "#plt.title(\"Lower is better.\")\n",
    "plt.tight_layout()\n",
    "plt.ylabel(\"Obj./LB\")\n",
    "plt.savefig(\"./output/solution_quality_lineplot.pdf\")\n",
    "plt.show()"
   ]
  },
  {
   "cell_type": "markdown",
   "id": "bd42f3d9-5f8d-4323-adf2-ff4a622dd062",
   "metadata": {},
   "source": [
    "We see that only theta12-2, wspd2-3, and yao12-2 yield reasonably good results. The theta-12-2 and yao12-2 seem to coincide. The WSPD2-3 has slightly better results but the difference is relatively inconsistent and small. Both seem to grow with the number of vertices and are above 1.5 for 20 vertices."
   ]
  },
  {
   "cell_type": "markdown",
   "id": "5a7cc8c3-0614-4036-a8ec-a5ec1aa56eca",
   "metadata": {},
   "source": [
    "## 2. Runtime\n",
    "\n",
    "Let us next take a look on the runtime. We are comparing a lot of different strategies which are too much for a lineplot. Instead we do a heatmap that shows us, which instances could still be solved wihtin a strict time limit. Infeasible instances are considered as unsolved (they are slightly worse but in both cases we do not obtain the desired solution from the sparsification).\n",
    "\n",
    "From this heatmap, we select a few intersting strategies for which we then also compare the concrete runtime in a lineplot."
   ]
  },
  {
   "cell_type": "code",
   "execution_count": 16,
   "id": "9b90a2dc-0c4d-40b3-abb3-2de7c3629e90",
   "metadata": {},
   "outputs": [
    {
     "data": {
      "image/png": "[encoded data removed]",
      "text/plain": [
       "<Figure size 500x300 with 2 Axes>"
      ]
     },
     "metadata": {},
     "output_type": "display_data"
    }
   ],
   "source": [
    "TIMEOUT_AFTER_S = 15\n",
    "fig = plt.figure(figsize=(0.5*PAPER_WIDTH,3))\n",
    "\n",
    "t = t_experiments_feasible.copy()\n",
    "t[\"timeout\"] = (t[\"Runtime\"]>TIMEOUT_AFTER_S).apply(lambda x: 0 if x else 100)\n",
    "t.loc[t[\"Status\"]!=2, \"timeout\"]=0\n",
    "t_ = t.groupby([\"num_vertices\", \"sparsification_technique\"])[\"timeout\"].mean().reset_index()\n",
    "t_\n",
    "sparsification_techniques = t[\"sparsification_technique\"].unique()\n",
    "t__ = pd.DataFrame()\n",
    "for s in sparsification_techniques:\n",
    "    column = t_[t_[\"sparsification_technique\"]==s].groupby(\"num_vertices\")[\"timeout\"].mean().copy()\n",
    "    t__[s]=column\n",
    "#pd.melt(t_,id_vars=[\"sparsification_technique\"], value_vars=[\"timeout\"])\n",
    "t__.sort_index(inplace=True, ascending=False)\n",
    "sns.heatmap(data=t__, cmap=\"flare_r\", xticklabels=True, vmin=0)\n",
    "#plt.xlabel(\"Sparsification Technique\")\n",
    "plt.xlabel(\"\")\n",
    "plt.yticks(rotation=0)\n",
    "#plt.gca().set_xticks(range(len(list(sparsification_techniques))))\n",
    "plt.xticks(rotation=90,fontsize=10)\n",
    "#plt.set_xticklabels(list(range(len(sparsification_techniques))))\n",
    "plt.ylabel(\"Number of vertices\")\n",
    "plt.title(f\"\\% solved within {TIMEOUT_AFTER_S}s\")\n",
    "#plt.title(f\"Solved within {TIMEOUT_AFTER_S}s. Brighter is better.\")\n",
    "plt.tight_layout()\n",
    "plt.savefig(\"./output/runtime_heatmap.pdf\")\n",
    "plt.show()"
   ]
  },
  {
   "cell_type": "code",
   "execution_count": 17,
   "id": "c09e5dc3-8b78-4540-b5d9-e3de0b01ba48",
   "metadata": {},
   "outputs": [
    {
     "name": "stderr",
     "output_type": "stream",
     "text": [
      "/tmp/ipykernel_1545144/169140962.py:8: FutureWarning: \n",
      "\n",
      "The `ci` parameter is deprecated. Use `errorbar=None` for the same effect.\n",
      "\n",
      "  sns.lineplot(data=t_, x=\"x\", y=\"Runtime\", hue=\"Sparsification\", style=\"Sparsification\", ci=None)\n"
     ]
    },
    {
     "data": {
      "image/png": "[encoded data removed]",
      "text/plain": [
       "<Figure size 500x300 with 1 Axes>"
      ]
     },
     "metadata": {},
     "output_type": "display_data"
    }
   ],
   "source": [
    "INTERESTING_STRATEGIES =[\"complete\", \"onion-0\", \"theta12-2\", \"wspd2-3\", \"yao12-2\"]\n",
    "fig = plt.figure(figsize=(0.5*PAPER_WIDTH,3))\n",
    "t = t_experiments_feasible.copy()\n",
    "t_ = t[t[\"sparsification_technique\"].isin(INTERESTING_STRATEGIES)].copy()\n",
    "t_.rename(columns={\"sparsification_technique\": \"Sparsification\"}, inplace=True)\n",
    "t_[\"x\"]=t_[\"num_vertices\"].apply(lambda x: str(int(x)))\n",
    "t_.sort_values(by=[\"num_vertices\", \"Sparsification\"], inplace=True)\n",
    "sns.lineplot(data=t_, x=\"x\", y=\"Runtime\", hue=\"Sparsification\", style=\"Sparsification\", ci=None)\n",
    "plt.legend(title=\"\")\n",
    "plt.xlabel(\"Number of vertices\")\n",
    "plt.tight_layout()\n",
    "plt.savefig(\"./output/runtime_lineplot.pdf\")\n",
    "plt.show()"
   ]
  },
  {
   "cell_type": "markdown",
   "id": "13eef806-14af-4bcb-b631-a0defe4b9435",
   "metadata": {},
   "source": [
    "While WSP2-3 had a small advantage for the quality, it is much slower than theta-12-2 and yao-2 (which again coincide). Solving the theta-12-2 or yao-2 happens extremely fast, within a fraction of the complete graph. WSPD2-3 is still faster than the complete graph, but e.g. for 19 vertices, the runtime is nearly identical. For 20 vertices, it only need 10% of the time (but the other two need less than 1%."
   ]
  },
  {
   "cell_type": "code",
   "execution_count": 18,
   "id": "6d713976-69f5-451e-a358-eefaa8711aed",
   "metadata": {},
   "outputs": [
    {
     "data": {
      "text/plain": [
       "sparsification_technique\n",
       "complete     94.237590\n",
       "delaunayT     0.045530\n",
       "greedyT       0.062299\n",
       "mwT           0.061143\n",
       "onion-0       0.412336\n",
       "theta12-2     1.668282\n",
       "theta6-2      0.059906\n",
       "yao12-2       1.736294\n",
       "yao6-2        0.061681\n",
       "Name: Runtime, dtype: float64"
      ]
     },
     "execution_count": 18,
     "metadata": {},
     "output_type": "execute_result"
    }
   ],
   "source": [
    "t = t_experiments_feasible.copy()\n",
    "t[t[\"num_vertices\"]==20].groupby(\"sparsification_technique\")[\"Runtime\"].mean()"
   ]
  }
 ],
 "metadata": {
  "kernelspec": {
   "display_name": "Python 3",
   "language": "python",
   "name": "python3"
  },
  "language_info": {
   "codemirror_mode": {
    "name": "ipython",
    "version": 3
   },
   "file_extension": ".py",
   "mimetype": "text/x-python",
   "name": "python",
   "nbconvert_exporter": "python",
   "pygments_lexer": "ipython3",
   "version": "3.10.9"
  }
 },
 "nbformat": 4,
 "nbformat_minor": 5
}
