{
 "cells": [
  {
   "cell_type": "markdown",
   "id": "bd4f59c2-9e22-40ab-9592-40d7fe1cef1b",
   "metadata": {},
   "source": [
    "# Min-Area Evaluation\n",
    "\n",
    "Experiments run with a timelimit of 7200s (2hr) on algpc02. There have been two models, but the Edge-Model showed to be problematic and slower, thus, we removed it.\n",
    "\n",
    "The experimentes have been executed with CPLEX, thus, we do not have the data to analyze the progress over time for the area optimization. It does not seem to be feasible, to quickly change that. However, the two different models also take up some space."
   ]
  },
  {
   "cell_type": "code",
   "execution_count": 1,
   "id": "ae171e44-89be-4e62-b26b-8430d57a46e3",
   "metadata": {},
   "outputs": [],
   "source": [
    "import json\n",
    "import os\n",
    "import string\n",
    "import pandas as pd\n",
    "import numpy as np\n",
    "import seaborn as sns\n",
    "import matplotlib.pyplot as plt\n",
    "sns.set()\n",
    "sns.set_theme()\n",
    "plt.rcParams.update({'figure.max_open_warning': 0\n",
    "                    ,\"text.usetex\": True\n",
    "                    ,\"font.family\": \"serif\"\n",
    "                    })\n",
    "sns.set_palette(\"tab10\")\n",
    "PAPER_WIDTH = 10"
   ]
  },
  {
   "cell_type": "markdown",
   "id": "682706c5-3150-4611-abc3-b0cc55c108d3",
   "metadata": {},
   "source": [
    "## Explaining the data"
   ]
  },
  {
   "cell_type": "code",
   "execution_count": 2,
   "id": "9947288d-dd9d-4f34-9e60-47f5a411e89a",
   "metadata": {},
   "outputs": [],
   "source": [
    "t_experiments = pd.read_json(\"./00_minarea_data.json.zip\")\n",
    "t_experiments = t_experiments[t_experiments[\"Model\"]==\"Triangle\"] # Edge is instable and slow!\n",
    "t_experiments.drop(columns=[\"Model\"], inplace=True)\n",
    "full_techniques =  t_experiments[t_experiments[\"num_vertices\"]==23][\"sparsification_technique\"].unique()\n",
    "t_experiments = t_experiments[t_experiments[\"sparsification_technique\"].isin(full_techniques)]"
   ]
  },
  {
   "cell_type": "markdown",
   "id": "44ea5c38-574b-40aa-9ac9-6142efe18a96",
   "metadata": {},
   "source": [
    "* **num_vertices:** The number of vertices in this instance. Most of the instances have been created in 5-steps.\n",
    "* **sparsification_technique:** The used sparsification technique. The complete graph has \"complete\".\n",
    "* **ObjVal:** The objective value of the solution (either optimal or the best at timeout).\n",
    "* **filename_instance:** The file of the instance. Use this to distinguish different instances. The name also states something about its properties.\n",
    "* **Runtime:** The runtime in seconds. The time limit has been 3600s.\n",
    "* **Status:** The status code. 2 means solved to optimality. For sparisified instances, the instance may be solved in time but infeasible.\n",
    "* **LowerBound:** The lower bound. If Status==2, it should equal the ObjVal.\n",
    "* **solver:** Just the name of the solver. Not of relevance.\n",
    "* **LowerBound_best:** The best known lower bound for the instance (complete graph)"
   ]
  },
  {
   "cell_type": "code",
   "execution_count": 3,
   "id": "84f28cf5-3c03-4739-b232-57b2e7f14f7a",
   "metadata": {},
   "outputs": [],
   "source": [
    "lbs = t_experiments[t_experiments[\"sparsification_technique\"]==\"complete\"].groupby(\"filename_instance\")[\"LowerBound\"].max()\n",
    "t_experiments = pd.merge(left=t_experiments, right=lbs, left_on=\"filename_instance\", right_index=True, suffixes=(\"\", \"_best\"))"
   ]
  },
  {
   "cell_type": "code",
   "execution_count": 4,
   "id": "1ff11d6b-ad10-4bf4-bf67-714b55c1ff65",
   "metadata": {},
   "outputs": [
    {
     "data": {
      "text/html": [
       "<div>\n",
       "<style scoped>\n",
       "    .dataframe tbody tr th:only-of-type {\n",
       "        vertical-align: middle;\n",
       "    }\n",
       "\n",
       "    .dataframe tbody tr th {\n",
       "        vertical-align: top;\n",
       "    }\n",
       "\n",
       "    .dataframe thead th {\n",
       "        text-align: right;\n",
       "    }\n",
       "</style>\n",
       "<table border=\"1\" class=\"dataframe\">\n",
       "  <thead>\n",
       "    <tr style=\"text-align: right;\">\n",
       "      <th></th>\n",
       "      <th>pointset</th>\n",
       "      <th>LowerBound</th>\n",
       "      <th>Solved</th>\n",
       "      <th>UpperBound</th>\n",
       "      <th>id_solver</th>\n",
       "      <th>instance_solver</th>\n",
       "      <th>filename_solver</th>\n",
       "      <th>Runtime</th>\n",
       "      <th>ObjVal</th>\n",
       "      <th>MIPGap</th>\n",
       "      <th>...</th>\n",
       "      <th>num_vertices</th>\n",
       "      <th>GRB_OUT_Incumbent</th>\n",
       "      <th>GRB_OUT_BestBd</th>\n",
       "      <th>sparsification_technique</th>\n",
       "      <th>size</th>\n",
       "      <th>filename_instance</th>\n",
       "      <th>type</th>\n",
       "      <th>id_instance</th>\n",
       "      <th>size_binned</th>\n",
       "      <th>LowerBound_best</th>\n",
       "    </tr>\n",
       "  </thead>\n",
       "  <tbody>\n",
       "    <tr>\n",
       "      <th>467</th>\n",
       "      <td>GSFC_20171208_Archive_e000256_orig_6_0</td>\n",
       "      <td>60177.500000</td>\n",
       "      <td>True</td>\n",
       "      <td>-1</td>\n",
       "      <td>GSFC_20171208_Archive_e000256_orig_6_0_complet...</td>\n",
       "      <td>GSFC_20171208_Archive_e000256_orig_6_0_complete</td>\n",
       "      <td>GSFC_20171208_Archive_e000256_orig_6_0_complet...</td>\n",
       "      <td>0.004469</td>\n",
       "      <td>60177.500000</td>\n",
       "      <td>0.0</td>\n",
       "      <td>...</td>\n",
       "      <td>6</td>\n",
       "      <td>NaN</td>\n",
       "      <td>NaN</td>\n",
       "      <td>complete</td>\n",
       "      <td>6</td>\n",
       "      <td>GSFC_20171208_Archive_e000256_orig_6_0.json</td>\n",
       "      <td>image_brightness</td>\n",
       "      <td>GSFC_20171208_Archive_e000256_orig_6_0</td>\n",
       "      <td>{'closed': 'right', 'closed_right': True, 'lef...</td>\n",
       "      <td>60177.500000</td>\n",
       "    </tr>\n",
       "    <tr>\n",
       "      <th>480</th>\n",
       "      <td>GSFC_20171208_Archive_e000256_orig_6_0</td>\n",
       "      <td>60177.500000</td>\n",
       "      <td>True</td>\n",
       "      <td>-1</td>\n",
       "      <td>GSFC_20171208_Archive_e000256_orig_6_0_delauna...</td>\n",
       "      <td>GSFC_20171208_Archive_e000256_orig_6_0_delaunayT</td>\n",
       "      <td>GSFC_20171208_Archive_e000256_orig_6_0_delauna...</td>\n",
       "      <td>0.003036</td>\n",
       "      <td>60177.500000</td>\n",
       "      <td>0.0</td>\n",
       "      <td>...</td>\n",
       "      <td>6</td>\n",
       "      <td>NaN</td>\n",
       "      <td>NaN</td>\n",
       "      <td>delaunayT</td>\n",
       "      <td>6</td>\n",
       "      <td>GSFC_20171208_Archive_e000256_orig_6_0.json</td>\n",
       "      <td>image_brightness</td>\n",
       "      <td>GSFC_20171208_Archive_e000256_orig_6_0</td>\n",
       "      <td>{'closed': 'right', 'closed_right': True, 'lef...</td>\n",
       "      <td>60177.500000</td>\n",
       "    </tr>\n",
       "    <tr>\n",
       "      <th>478</th>\n",
       "      <td>GSFC_20171208_Archive_e000256_orig_6_0</td>\n",
       "      <td>60177.500000</td>\n",
       "      <td>True</td>\n",
       "      <td>-1</td>\n",
       "      <td>GSFC_20171208_Archive_e000256_orig_6_0_greedyT...</td>\n",
       "      <td>GSFC_20171208_Archive_e000256_orig_6_0_greedyT</td>\n",
       "      <td>GSFC_20171208_Archive_e000256_orig_6_0_greedyT...</td>\n",
       "      <td>0.002914</td>\n",
       "      <td>60177.500000</td>\n",
       "      <td>0.0</td>\n",
       "      <td>...</td>\n",
       "      <td>6</td>\n",
       "      <td>NaN</td>\n",
       "      <td>NaN</td>\n",
       "      <td>greedyT</td>\n",
       "      <td>6</td>\n",
       "      <td>GSFC_20171208_Archive_e000256_orig_6_0.json</td>\n",
       "      <td>image_brightness</td>\n",
       "      <td>GSFC_20171208_Archive_e000256_orig_6_0</td>\n",
       "      <td>{'closed': 'right', 'closed_right': True, 'lef...</td>\n",
       "      <td>60177.500000</td>\n",
       "    </tr>\n",
       "    <tr>\n",
       "      <th>460</th>\n",
       "      <td>GSFC_20171208_Archive_e000256_orig_6_0</td>\n",
       "      <td>60177.500000</td>\n",
       "      <td>True</td>\n",
       "      <td>-1</td>\n",
       "      <td>GSFC_20171208_Archive_e000256_orig_6_0_mwT_Min...</td>\n",
       "      <td>GSFC_20171208_Archive_e000256_orig_6_0_mwT</td>\n",
       "      <td>GSFC_20171208_Archive_e000256_orig_6_0_mwT_Min...</td>\n",
       "      <td>0.002975</td>\n",
       "      <td>60177.500000</td>\n",
       "      <td>0.0</td>\n",
       "      <td>...</td>\n",
       "      <td>6</td>\n",
       "      <td>NaN</td>\n",
       "      <td>NaN</td>\n",
       "      <td>mwT</td>\n",
       "      <td>6</td>\n",
       "      <td>GSFC_20171208_Archive_e000256_orig_6_0.json</td>\n",
       "      <td>image_brightness</td>\n",
       "      <td>GSFC_20171208_Archive_e000256_orig_6_0</td>\n",
       "      <td>{'closed': 'right', 'closed_right': True, 'lef...</td>\n",
       "      <td>60177.500000</td>\n",
       "    </tr>\n",
       "    <tr>\n",
       "      <th>461</th>\n",
       "      <td>GSFC_20171208_Archive_e000256_orig_6_0</td>\n",
       "      <td>60177.500000</td>\n",
       "      <td>True</td>\n",
       "      <td>-1</td>\n",
       "      <td>GSFC_20171208_Archive_e000256_orig_6_0_onion-0...</td>\n",
       "      <td>GSFC_20171208_Archive_e000256_orig_6_0_onion-0</td>\n",
       "      <td>GSFC_20171208_Archive_e000256_orig_6_0_onion-0...</td>\n",
       "      <td>0.004033</td>\n",
       "      <td>60177.500000</td>\n",
       "      <td>0.0</td>\n",
       "      <td>...</td>\n",
       "      <td>6</td>\n",
       "      <td>NaN</td>\n",
       "      <td>NaN</td>\n",
       "      <td>onion-0</td>\n",
       "      <td>6</td>\n",
       "      <td>GSFC_20171208_Archive_e000256_orig_6_0.json</td>\n",
       "      <td>image_brightness</td>\n",
       "      <td>GSFC_20171208_Archive_e000256_orig_6_0</td>\n",
       "      <td>{'closed': 'right', 'closed_right': True, 'lef...</td>\n",
       "      <td>60177.500000</td>\n",
       "    </tr>\n",
       "    <tr>\n",
       "      <th>...</th>\n",
       "      <td>...</td>\n",
       "      <td>...</td>\n",
       "      <td>...</td>\n",
       "      <td>...</td>\n",
       "      <td>...</td>\n",
       "      <td>...</td>\n",
       "      <td>...</td>\n",
       "      <td>...</td>\n",
       "      <td>...</td>\n",
       "      <td>...</td>\n",
       "      <td>...</td>\n",
       "      <td>...</td>\n",
       "      <td>...</td>\n",
       "      <td>...</td>\n",
       "      <td>...</td>\n",
       "      <td>...</td>\n",
       "      <td>...</td>\n",
       "      <td>...</td>\n",
       "      <td>...</td>\n",
       "      <td>...</td>\n",
       "      <td>...</td>\n",
       "    </tr>\n",
       "    <tr>\n",
       "      <th>24029</th>\n",
       "      <td>20210725_uniform_real_7_1</td>\n",
       "      <td>-1.000000</td>\n",
       "      <td>False</td>\n",
       "      <td>-1</td>\n",
       "      <td>20210725_uniform_real_7_1_yao12-1_Min_area</td>\n",
       "      <td>20210725_uniform_real_7_1_yao12-1</td>\n",
       "      <td>20210725_uniform_real_7_1_yao12-1_Min_area.json</td>\n",
       "      <td>0.004421</td>\n",
       "      <td>0.000000</td>\n",
       "      <td>0.0</td>\n",
       "      <td>...</td>\n",
       "      <td>7</td>\n",
       "      <td>NaN</td>\n",
       "      <td>NaN</td>\n",
       "      <td>yao12-1</td>\n",
       "      <td>7</td>\n",
       "      <td>20210725_uniform_real_7_1.json</td>\n",
       "      <td>uniform_real</td>\n",
       "      <td>20210725_uniform_real_7_1</td>\n",
       "      <td>{'closed': 'right', 'closed_right': True, 'lef...</td>\n",
       "      <td>60215.173132</td>\n",
       "    </tr>\n",
       "    <tr>\n",
       "      <th>24024</th>\n",
       "      <td>20210725_uniform_real_7_1</td>\n",
       "      <td>60215.173132</td>\n",
       "      <td>True</td>\n",
       "      <td>-1</td>\n",
       "      <td>20210725_uniform_real_7_1_yao12-2_Min_area</td>\n",
       "      <td>20210725_uniform_real_7_1_yao12-2</td>\n",
       "      <td>20210725_uniform_real_7_1_yao12-2_Min_area.json</td>\n",
       "      <td>0.018834</td>\n",
       "      <td>60215.173132</td>\n",
       "      <td>0.0</td>\n",
       "      <td>...</td>\n",
       "      <td>7</td>\n",
       "      <td>NaN</td>\n",
       "      <td>NaN</td>\n",
       "      <td>yao12-2</td>\n",
       "      <td>7</td>\n",
       "      <td>20210725_uniform_real_7_1.json</td>\n",
       "      <td>uniform_real</td>\n",
       "      <td>20210725_uniform_real_7_1</td>\n",
       "      <td>{'closed': 'right', 'closed_right': True, 'lef...</td>\n",
       "      <td>60215.173132</td>\n",
       "    </tr>\n",
       "    <tr>\n",
       "      <th>24025</th>\n",
       "      <td>20210725_uniform_real_7_1</td>\n",
       "      <td>-1.000000</td>\n",
       "      <td>False</td>\n",
       "      <td>-1</td>\n",
       "      <td>20210725_uniform_real_7_1_yao6-0_Min_area</td>\n",
       "      <td>20210725_uniform_real_7_1_yao6-0</td>\n",
       "      <td>20210725_uniform_real_7_1_yao6-0_Min_area.json</td>\n",
       "      <td>0.004456</td>\n",
       "      <td>0.000000</td>\n",
       "      <td>0.0</td>\n",
       "      <td>...</td>\n",
       "      <td>7</td>\n",
       "      <td>NaN</td>\n",
       "      <td>NaN</td>\n",
       "      <td>yao6-0</td>\n",
       "      <td>7</td>\n",
       "      <td>20210725_uniform_real_7_1.json</td>\n",
       "      <td>uniform_real</td>\n",
       "      <td>20210725_uniform_real_7_1</td>\n",
       "      <td>{'closed': 'right', 'closed_right': True, 'lef...</td>\n",
       "      <td>60215.173132</td>\n",
       "    </tr>\n",
       "    <tr>\n",
       "      <th>24030</th>\n",
       "      <td>20210725_uniform_real_7_1</td>\n",
       "      <td>-1.000000</td>\n",
       "      <td>False</td>\n",
       "      <td>-1</td>\n",
       "      <td>20210725_uniform_real_7_1_yao6-1_Min_area</td>\n",
       "      <td>20210725_uniform_real_7_1_yao6-1</td>\n",
       "      <td>20210725_uniform_real_7_1_yao6-1_Min_area.json</td>\n",
       "      <td>0.004397</td>\n",
       "      <td>0.000000</td>\n",
       "      <td>0.0</td>\n",
       "      <td>...</td>\n",
       "      <td>7</td>\n",
       "      <td>NaN</td>\n",
       "      <td>NaN</td>\n",
       "      <td>yao6-1</td>\n",
       "      <td>7</td>\n",
       "      <td>20210725_uniform_real_7_1.json</td>\n",
       "      <td>uniform_real</td>\n",
       "      <td>20210725_uniform_real_7_1</td>\n",
       "      <td>{'closed': 'right', 'closed_right': True, 'lef...</td>\n",
       "      <td>60215.173132</td>\n",
       "    </tr>\n",
       "    <tr>\n",
       "      <th>24013</th>\n",
       "      <td>20210725_uniform_real_7_1</td>\n",
       "      <td>60215.173132</td>\n",
       "      <td>True</td>\n",
       "      <td>-1</td>\n",
       "      <td>20210725_uniform_real_7_1_yao6-2_Min_area</td>\n",
       "      <td>20210725_uniform_real_7_1_yao6-2</td>\n",
       "      <td>20210725_uniform_real_7_1_yao6-2_Min_area.json</td>\n",
       "      <td>0.009169</td>\n",
       "      <td>60215.173132</td>\n",
       "      <td>0.0</td>\n",
       "      <td>...</td>\n",
       "      <td>7</td>\n",
       "      <td>NaN</td>\n",
       "      <td>NaN</td>\n",
       "      <td>yao6-2</td>\n",
       "      <td>7</td>\n",
       "      <td>20210725_uniform_real_7_1.json</td>\n",
       "      <td>uniform_real</td>\n",
       "      <td>20210725_uniform_real_7_1</td>\n",
       "      <td>{'closed': 'right', 'closed_right': True, 'lef...</td>\n",
       "      <td>60215.173132</td>\n",
       "    </tr>\n",
       "  </tbody>\n",
       "</table>\n",
       "<p>19968 rows × 26 columns</p>\n",
       "</div>"
      ],
      "text/plain": [
       "                                     pointset    LowerBound  Solved  \\\n",
       "467    GSFC_20171208_Archive_e000256_orig_6_0  60177.500000    True   \n",
       "480    GSFC_20171208_Archive_e000256_orig_6_0  60177.500000    True   \n",
       "478    GSFC_20171208_Archive_e000256_orig_6_0  60177.500000    True   \n",
       "460    GSFC_20171208_Archive_e000256_orig_6_0  60177.500000    True   \n",
       "461    GSFC_20171208_Archive_e000256_orig_6_0  60177.500000    True   \n",
       "...                                       ...           ...     ...   \n",
       "24029               20210725_uniform_real_7_1     -1.000000   False   \n",
       "24024               20210725_uniform_real_7_1  60215.173132    True   \n",
       "24025               20210725_uniform_real_7_1     -1.000000   False   \n",
       "24030               20210725_uniform_real_7_1     -1.000000   False   \n",
       "24013               20210725_uniform_real_7_1  60215.173132    True   \n",
       "\n",
       "       UpperBound                                          id_solver  \\\n",
       "467            -1  GSFC_20171208_Archive_e000256_orig_6_0_complet...   \n",
       "480            -1  GSFC_20171208_Archive_e000256_orig_6_0_delauna...   \n",
       "478            -1  GSFC_20171208_Archive_e000256_orig_6_0_greedyT...   \n",
       "460            -1  GSFC_20171208_Archive_e000256_orig_6_0_mwT_Min...   \n",
       "461            -1  GSFC_20171208_Archive_e000256_orig_6_0_onion-0...   \n",
       "...           ...                                                ...   \n",
       "24029          -1         20210725_uniform_real_7_1_yao12-1_Min_area   \n",
       "24024          -1         20210725_uniform_real_7_1_yao12-2_Min_area   \n",
       "24025          -1          20210725_uniform_real_7_1_yao6-0_Min_area   \n",
       "24030          -1          20210725_uniform_real_7_1_yao6-1_Min_area   \n",
       "24013          -1          20210725_uniform_real_7_1_yao6-2_Min_area   \n",
       "\n",
       "                                        instance_solver  \\\n",
       "467     GSFC_20171208_Archive_e000256_orig_6_0_complete   \n",
       "480    GSFC_20171208_Archive_e000256_orig_6_0_delaunayT   \n",
       "478      GSFC_20171208_Archive_e000256_orig_6_0_greedyT   \n",
       "460          GSFC_20171208_Archive_e000256_orig_6_0_mwT   \n",
       "461      GSFC_20171208_Archive_e000256_orig_6_0_onion-0   \n",
       "...                                                 ...   \n",
       "24029                 20210725_uniform_real_7_1_yao12-1   \n",
       "24024                 20210725_uniform_real_7_1_yao12-2   \n",
       "24025                  20210725_uniform_real_7_1_yao6-0   \n",
       "24030                  20210725_uniform_real_7_1_yao6-1   \n",
       "24013                  20210725_uniform_real_7_1_yao6-2   \n",
       "\n",
       "                                         filename_solver   Runtime  \\\n",
       "467    GSFC_20171208_Archive_e000256_orig_6_0_complet...  0.004469   \n",
       "480    GSFC_20171208_Archive_e000256_orig_6_0_delauna...  0.003036   \n",
       "478    GSFC_20171208_Archive_e000256_orig_6_0_greedyT...  0.002914   \n",
       "460    GSFC_20171208_Archive_e000256_orig_6_0_mwT_Min...  0.002975   \n",
       "461    GSFC_20171208_Archive_e000256_orig_6_0_onion-0...  0.004033   \n",
       "...                                                  ...       ...   \n",
       "24029    20210725_uniform_real_7_1_yao12-1_Min_area.json  0.004421   \n",
       "24024    20210725_uniform_real_7_1_yao12-2_Min_area.json  0.018834   \n",
       "24025     20210725_uniform_real_7_1_yao6-0_Min_area.json  0.004456   \n",
       "24030     20210725_uniform_real_7_1_yao6-1_Min_area.json  0.004397   \n",
       "24013     20210725_uniform_real_7_1_yao6-2_Min_area.json  0.009169   \n",
       "\n",
       "             ObjVal  MIPGap  ... num_vertices  GRB_OUT_Incumbent  \\\n",
       "467    60177.500000     0.0  ...            6                NaN   \n",
       "480    60177.500000     0.0  ...            6                NaN   \n",
       "478    60177.500000     0.0  ...            6                NaN   \n",
       "460    60177.500000     0.0  ...            6                NaN   \n",
       "461    60177.500000     0.0  ...            6                NaN   \n",
       "...             ...     ...  ...          ...                ...   \n",
       "24029      0.000000     0.0  ...            7                NaN   \n",
       "24024  60215.173132     0.0  ...            7                NaN   \n",
       "24025      0.000000     0.0  ...            7                NaN   \n",
       "24030      0.000000     0.0  ...            7                NaN   \n",
       "24013  60215.173132     0.0  ...            7                NaN   \n",
       "\n",
       "      GRB_OUT_BestBd sparsification_technique size  \\\n",
       "467              NaN                 complete    6   \n",
       "480              NaN                delaunayT    6   \n",
       "478              NaN                  greedyT    6   \n",
       "460              NaN                      mwT    6   \n",
       "461              NaN                  onion-0    6   \n",
       "...              ...                      ...  ...   \n",
       "24029            NaN                  yao12-1    7   \n",
       "24024            NaN                  yao12-2    7   \n",
       "24025            NaN                   yao6-0    7   \n",
       "24030            NaN                   yao6-1    7   \n",
       "24013            NaN                   yao6-2    7   \n",
       "\n",
       "                                 filename_instance              type  \\\n",
       "467    GSFC_20171208_Archive_e000256_orig_6_0.json  image_brightness   \n",
       "480    GSFC_20171208_Archive_e000256_orig_6_0.json  image_brightness   \n",
       "478    GSFC_20171208_Archive_e000256_orig_6_0.json  image_brightness   \n",
       "460    GSFC_20171208_Archive_e000256_orig_6_0.json  image_brightness   \n",
       "461    GSFC_20171208_Archive_e000256_orig_6_0.json  image_brightness   \n",
       "...                                            ...               ...   \n",
       "24029               20210725_uniform_real_7_1.json      uniform_real   \n",
       "24024               20210725_uniform_real_7_1.json      uniform_real   \n",
       "24025               20210725_uniform_real_7_1.json      uniform_real   \n",
       "24030               20210725_uniform_real_7_1.json      uniform_real   \n",
       "24013               20210725_uniform_real_7_1.json      uniform_real   \n",
       "\n",
       "                                  id_instance  \\\n",
       "467    GSFC_20171208_Archive_e000256_orig_6_0   \n",
       "480    GSFC_20171208_Archive_e000256_orig_6_0   \n",
       "478    GSFC_20171208_Archive_e000256_orig_6_0   \n",
       "460    GSFC_20171208_Archive_e000256_orig_6_0   \n",
       "461    GSFC_20171208_Archive_e000256_orig_6_0   \n",
       "...                                       ...   \n",
       "24029               20210725_uniform_real_7_1   \n",
       "24024               20210725_uniform_real_7_1   \n",
       "24025               20210725_uniform_real_7_1   \n",
       "24030               20210725_uniform_real_7_1   \n",
       "24013               20210725_uniform_real_7_1   \n",
       "\n",
       "                                             size_binned LowerBound_best  \n",
       "467    {'closed': 'right', 'closed_right': True, 'lef...    60177.500000  \n",
       "480    {'closed': 'right', 'closed_right': True, 'lef...    60177.500000  \n",
       "478    {'closed': 'right', 'closed_right': True, 'lef...    60177.500000  \n",
       "460    {'closed': 'right', 'closed_right': True, 'lef...    60177.500000  \n",
       "461    {'closed': 'right', 'closed_right': True, 'lef...    60177.500000  \n",
       "...                                                  ...             ...  \n",
       "24029  {'closed': 'right', 'closed_right': True, 'lef...    60215.173132  \n",
       "24024  {'closed': 'right', 'closed_right': True, 'lef...    60215.173132  \n",
       "24025  {'closed': 'right', 'closed_right': True, 'lef...    60215.173132  \n",
       "24030  {'closed': 'right', 'closed_right': True, 'lef...    60215.173132  \n",
       "24013  {'closed': 'right', 'closed_right': True, 'lef...    60215.173132  \n",
       "\n",
       "[19968 rows x 26 columns]"
      ]
     },
     "execution_count": 4,
     "metadata": {},
     "output_type": "execute_result"
    }
   ],
   "source": [
    "t_experiments"
   ]
  },
  {
   "cell_type": "code",
   "execution_count": 5,
   "id": "3a496210-6320-420b-a03b-c5fbea984f6f",
   "metadata": {},
   "outputs": [
    {
     "data": {
      "text/html": [
       "<div>\n",
       "<style scoped>\n",
       "    .dataframe tbody tr th:only-of-type {\n",
       "        vertical-align: middle;\n",
       "    }\n",
       "\n",
       "    .dataframe tbody tr th {\n",
       "        vertical-align: top;\n",
       "    }\n",
       "\n",
       "    .dataframe thead th {\n",
       "        text-align: right;\n",
       "    }\n",
       "</style>\n",
       "<table border=\"1\" class=\"dataframe\">\n",
       "  <thead>\n",
       "    <tr style=\"text-align: right;\">\n",
       "      <th></th>\n",
       "      <th>pointset</th>\n",
       "      <th>LowerBound</th>\n",
       "      <th>Solved</th>\n",
       "      <th>UpperBound</th>\n",
       "      <th>id_solver</th>\n",
       "      <th>instance_solver</th>\n",
       "      <th>filename_solver</th>\n",
       "      <th>Runtime</th>\n",
       "      <th>ObjVal</th>\n",
       "      <th>MIPGap</th>\n",
       "      <th>...</th>\n",
       "      <th>num_vertices</th>\n",
       "      <th>GRB_OUT_Incumbent</th>\n",
       "      <th>GRB_OUT_BestBd</th>\n",
       "      <th>sparsification_technique</th>\n",
       "      <th>size</th>\n",
       "      <th>filename_instance</th>\n",
       "      <th>type</th>\n",
       "      <th>id_instance</th>\n",
       "      <th>size_binned</th>\n",
       "      <th>LowerBound_best</th>\n",
       "    </tr>\n",
       "  </thead>\n",
       "  <tbody>\n",
       "  </tbody>\n",
       "</table>\n",
       "<p>0 rows × 26 columns</p>\n",
       "</div>"
      ],
      "text/plain": [
       "Empty DataFrame\n",
       "Columns: [pointset, LowerBound, Solved, UpperBound, id_solver, instance_solver, filename_solver, Runtime, ObjVal, MIPGap, solver, Status, GRB_OUT_Time, filename_sparsification, id_sparsification, instance_sparsification, num_vertices, GRB_OUT_Incumbent, GRB_OUT_BestBd, sparsification_technique, size, filename_instance, type, id_instance, size_binned, LowerBound_best]\n",
       "Index: []\n",
       "\n",
       "[0 rows x 26 columns]"
      ]
     },
     "execution_count": 5,
     "metadata": {},
     "output_type": "execute_result"
    }
   ],
   "source": [
    "t_experiments[t_experiments[\"LowerBound\"]>1.01*t_experiments[\"ObjVal\"]]"
   ]
  },
  {
   "cell_type": "code",
   "execution_count": 6,
   "id": "3e53c051-2cbb-4165-b531-fc21c6498448",
   "metadata": {},
   "outputs": [
    {
     "data": {
      "text/plain": [
       "<AxesSubplot: ylabel='Frequency'>"
      ]
     },
     "execution_count": 6,
     "metadata": {},
     "output_type": "execute_result"
    },
    {
     "data": {
      "image/png": "[encoded data removed]",
      "text/plain": [
       "<Figure size 640x480 with 1 Axes>"
      ]
     },
     "metadata": {},
     "output_type": "display_data"
    }
   ],
   "source": [
    "t_experiments[\"num_vertices\"].plot.hist()"
   ]
  },
  {
   "cell_type": "markdown",
   "id": "ec1e901b-f7ce-46e3-a7b3-cc6341caa0b6",
   "metadata": {},
   "source": [
    "## 1. Feasibility\n",
    "\n",
    "Quite a lot of sparsifications instances are barely feasible. Luckily the infeasible sparsifications are nearly identical for both models. For the Triangle-Model the feasibility is slightly worse."
   ]
  },
  {
   "cell_type": "code",
   "execution_count": 7,
   "id": "7f70e17e-3a22-4726-ac21-d6af6f804567",
   "metadata": {},
   "outputs": [
    {
     "data": {
      "text/plain": [
       "sparsification_technique\n",
       "onion-1-1    0.874737\n",
       "onion-2-1    0.586316\n",
       "theta12-0    0.890526\n",
       "theta12-1    0.885263\n",
       "theta12-2    0.003158\n",
       "theta6-0     0.488421\n",
       "theta6-1     0.480000\n",
       "theta6-2     0.034737\n",
       "wspd2-3      0.154737\n",
       "yao12-0      0.890526\n",
       "yao12-1      0.885263\n",
       "yao12-2      0.003158\n",
       "yao6-0       0.635789\n",
       "yao6-1       0.623158\n",
       "yao6-2       0.033684\n",
       "Name: filename_instance, dtype: float64"
      ]
     },
     "execution_count": 7,
     "metadata": {},
     "output_type": "execute_result"
    }
   ],
   "source": [
    "only_larger_than = 5\n",
    "num_instances = t_experiments[(t_experiments[\"num_vertices\"]>=only_larger_than)][\"filename_instance\"].nunique()\n",
    "t = t_experiments[(t_experiments[\"Status\"]==3) & (t_experiments[\"num_vertices\"]>=only_larger_than)].groupby(\"sparsification_technique\")[\"filename_instance\"].nunique()/num_instances\n",
    "t"
   ]
  },
  {
   "cell_type": "code",
   "execution_count": 8,
   "metadata": {
    "collapsed": false,
    "pycharm": {
     "name": "#%%\n"
    }
   },
   "outputs": [],
   "source": [
    "#t_experiments[(t_experiments[\"Status\"]==3) & (t_experiments[\"sparsification_technique\"]==\"complete\")].iloc[1]"
   ]
  },
  {
   "cell_type": "code",
   "execution_count": 9,
   "id": "12d73052-bfff-4f69-80b9-e33d709ddf7d",
   "metadata": {},
   "outputs": [
    {
     "data": {
      "image/png": "[encoded data removed]",
      "text/plain": [
       "<Figure size 1000x300 with 2 Axes>"
      ]
     },
     "metadata": {},
     "output_type": "display_data"
    }
   ],
   "source": [
    "fig = plt.figure(figsize=(PAPER_WIDTH,3))\n",
    "t = t_experiments.copy()\n",
    "t[\"Infeasible\"] = (t[\"Status\"]==3).apply(lambda x: 100 if x else 0)\n",
    "t_ = t.groupby([\"num_vertices\", \"sparsification_technique\"])[\"Infeasible\"].mean().reset_index()\n",
    "t_\n",
    "sparsification_techniques = t[\"sparsification_technique\"].unique()\n",
    "t__ = pd.DataFrame()\n",
    "for s in sparsification_techniques:\n",
    "    column = t_[t_[\"sparsification_technique\"]==s].groupby(\"num_vertices\")[\"Infeasible\"].mean().copy()\n",
    "    t__[s]=column\n",
    "#pd.melt(t_,id_vars=[\"sparsification_technique\"], value_vars=[\"timeout\"])\n",
    "t__.sort_index(inplace=True, ascending=False)\n",
    "sns.heatmap(data=t__, cmap=\"flare_r\", xticklabels=True, yticklabels=True)\n",
    "plt.xlabel(\"\")\n",
    "plt.yticks(rotation=0)\n",
    "#plt.gca().set_xticks(range(len(list(sparsification_techniques))))\n",
    "plt.xticks(rotation=90,fontsize=10)\n",
    "#plt.set_xticklabels(list(range(len(sparsification_techniques))))\n",
    "plt.ylabel(\"Number of vertices\")\n",
    "plt.title(\"Brighter is worse.\")\n",
    "plt.tight_layout()\n",
    "plt.savefig(\"./output/feasibility.pdf\")\n",
    "plt.show()"
   ]
  },
  {
   "cell_type": "markdown",
   "id": "923080e4-12eb-4c35-80e9-739dc7a1d5f1",
   "metadata": {},
   "source": [
    "As we see above, the infeasible instances are relatively independent of the size and nearly identical for both models.\n",
    "\n",
    "Let us ignore the following sparsification techniques, because more than 10% of them are infeasible"
   ]
  },
  {
   "cell_type": "code",
   "execution_count": 10,
   "id": "917f9e65-37b3-4117-b4a1-ef59eb8249d4",
   "metadata": {},
   "outputs": [
    {
     "data": {
      "text/plain": [
       "['onion-1-1',\n",
       " 'onion-2-1',\n",
       " 'theta12-0',\n",
       " 'theta12-1',\n",
       " 'theta6-0',\n",
       " 'theta6-1',\n",
       " 'wspd2-3',\n",
       " 'yao12-0',\n",
       " 'yao12-1',\n",
       " 'yao6-0',\n",
       " 'yao6-1']"
      ]
     },
     "execution_count": 10,
     "metadata": {},
     "output_type": "execute_result"
    }
   ],
   "source": [
    "t = t_experiments[(t_experiments[\"Status\"]==3) & (t_experiments[\"num_vertices\"]>=only_larger_than)].groupby(\"sparsification_technique\")[\"filename_instance\"].nunique()/num_instances\n",
    "techniques_to_ignore = list(t[t>0.1].index)\n",
    "techniques_to_ignore"
   ]
  },
  {
   "cell_type": "code",
   "execution_count": 11,
   "id": "dfac962b-5eef-4930-9d6d-edec57099ed6",
   "metadata": {},
   "outputs": [],
   "source": [
    "t_experiments_feasible = t_experiments[~t_experiments[\"sparsification_technique\"].isin(techniques_to_ignore)]"
   ]
  },
  {
   "cell_type": "code",
   "execution_count": null,
   "id": "4ebcbf16-4b7c-4d60-acac-996726e564ae",
   "metadata": {},
   "outputs": [],
   "source": []
  },
  {
   "cell_type": "markdown",
   "id": "c80505e4-3c03-42fc-b516-b6a9f1833de8",
   "metadata": {},
   "source": [
    "## 2. Solution Quality\n",
    "\n",
    "Let us next look at the solution quality because bad solutions are not useful independent of how quick we can obtain them.\n",
    "\n",
    "We are using *best upper bound/best lower bound* as metric (all bounds computed with timeout)."
   ]
  },
  {
   "cell_type": "code",
   "execution_count": 12,
   "id": "96dd62e2-88c1-4ce1-83d3-509e7092e505",
   "metadata": {},
   "outputs": [],
   "source": [
    "t = t_experiments_feasible.copy()\n",
    "t=t[t[\"Status\"]!=3]\n",
    "t[\"Gap\"] = t[\"ObjVal\"]/t[\"LowerBound_best\"]"
   ]
  },
  {
   "cell_type": "code",
   "execution_count": 13,
   "id": "319f1d57-176c-4787-8037-b6b20d75435f",
   "metadata": {},
   "outputs": [
    {
     "data": {
      "text/html": [
       "<div>\n",
       "<style scoped>\n",
       "    .dataframe tbody tr th:only-of-type {\n",
       "        vertical-align: middle;\n",
       "    }\n",
       "\n",
       "    .dataframe tbody tr th {\n",
       "        vertical-align: top;\n",
       "    }\n",
       "\n",
       "    .dataframe thead th {\n",
       "        text-align: right;\n",
       "    }\n",
       "</style>\n",
       "<table border=\"1\" class=\"dataframe\">\n",
       "  <thead>\n",
       "    <tr style=\"text-align: right;\">\n",
       "      <th></th>\n",
       "      <th>pointset</th>\n",
       "      <th>LowerBound</th>\n",
       "      <th>Solved</th>\n",
       "      <th>UpperBound</th>\n",
       "      <th>id_solver</th>\n",
       "      <th>instance_solver</th>\n",
       "      <th>filename_solver</th>\n",
       "      <th>Runtime</th>\n",
       "      <th>ObjVal</th>\n",
       "      <th>MIPGap</th>\n",
       "      <th>...</th>\n",
       "      <th>GRB_OUT_Incumbent</th>\n",
       "      <th>GRB_OUT_BestBd</th>\n",
       "      <th>sparsification_technique</th>\n",
       "      <th>size</th>\n",
       "      <th>filename_instance</th>\n",
       "      <th>type</th>\n",
       "      <th>id_instance</th>\n",
       "      <th>size_binned</th>\n",
       "      <th>LowerBound_best</th>\n",
       "      <th>Gap</th>\n",
       "    </tr>\n",
       "  </thead>\n",
       "  <tbody>\n",
       "  </tbody>\n",
       "</table>\n",
       "<p>0 rows × 27 columns</p>\n",
       "</div>"
      ],
      "text/plain": [
       "Empty DataFrame\n",
       "Columns: [pointset, LowerBound, Solved, UpperBound, id_solver, instance_solver, filename_solver, Runtime, ObjVal, MIPGap, solver, Status, GRB_OUT_Time, filename_sparsification, id_sparsification, instance_sparsification, num_vertices, GRB_OUT_Incumbent, GRB_OUT_BestBd, sparsification_technique, size, filename_instance, type, id_instance, size_binned, LowerBound_best, Gap]\n",
       "Index: []\n",
       "\n",
       "[0 rows x 27 columns]"
      ]
     },
     "execution_count": 13,
     "metadata": {},
     "output_type": "execute_result"
    }
   ],
   "source": [
    "t[(t[\"Gap\"]<0.99) & (t[\"sparsification_technique\"]==\"complete\")]"
   ]
  },
  {
   "cell_type": "code",
   "execution_count": 14,
   "id": "21c1cbdd-ea57-4d77-a33e-894bb3cba335",
   "metadata": {},
   "outputs": [
    {
     "data": {
      "image/png": "[encoded data removed]",
      "text/plain": [
       "<Figure size 500x300 with 2 Axes>"
      ]
     },
     "metadata": {},
     "output_type": "display_data"
    }
   ],
   "source": [
    "fig = plt.figure(figsize=(0.5*PAPER_WIDTH,3))\n",
    "t_ = t.groupby([\"num_vertices\", \"sparsification_technique\"])[\"Gap\"].mean().reset_index()\n",
    "sparsification_techniques = t[\"sparsification_technique\"].unique()\n",
    "t__ = pd.DataFrame()\n",
    "for s in sparsification_techniques:\n",
    "    column = t_[t_[\"sparsification_technique\"]==s].groupby(\"num_vertices\")[\"Gap\"].mean().copy()\n",
    "    t__[s]=column\n",
    "#pd.melt(t_,id_vars=[\"sparsification_technique\"], value_vars=[\"timeout\"])\n",
    "t__.sort_index(inplace=True, ascending=False)\n",
    "sns.heatmap(data=t__, cmap=\"flare_r\", xticklabels=True)\n",
    "#plt.xlabel(\"Sparsification Technique\")\n",
    "plt.xlabel(\"\")\n",
    "plt.yticks(rotation=0)\n",
    "#plt.gca().set_xticks(range(len(list(sparsification_techniques))))\n",
    "plt.xticks(rotation=90,fontsize=10)\n",
    "#plt.set_xticklabels(list(range(len(sparsification_techniques))))\n",
    "plt.ylabel(\"Number of vertices\")\n",
    "#plt.title(\"Brighter is worse.\")\n",
    "plt.title(\"Obj./LB\")\n",
    "plt.tight_layout()\n",
    "plt.savefig(\"./output/solution_quality_heatmap.pdf\")\n",
    "plt.show()"
   ]
  },
  {
   "cell_type": "code",
   "execution_count": 15,
   "id": "6c843b6f-1273-4c35-acef-ab0ba7a9fe32",
   "metadata": {},
   "outputs": [
    {
     "name": "stderr",
     "output_type": "stream",
     "text": [
      "/tmp/ipykernel_10637/3317444741.py:7: FutureWarning: \n",
      "\n",
      "The `ci` parameter is deprecated. Use `errorbar=None` for the same effect.\n",
      "\n",
      "  sns.lineplot(data=t_, x=\"x\", y=\"Gap\", hue=\"spars\", style=\"spars\",ci=None)\n"
     ]
    },
    {
     "data": {
      "image/png": "[encoded data removed]",
      "text/plain": [
       "<Figure size 500x300 with 1 Axes>"
      ]
     },
     "metadata": {},
     "output_type": "display_data"
    }
   ],
   "source": [
    "fig = plt.figure(figsize=(0.5*PAPER_WIDTH,3))\n",
    "detail_sparsification_techniques = [\"complete\", \"onion-0\", \"theta12-2\", \"wspd2-3\", \"yao12-2\"]\n",
    "t_ = t[t[\"sparsification_technique\"].isin(detail_sparsification_techniques)].copy()\n",
    "t_.rename(columns={\"sparsification_technique\": \"spars\"}, inplace=True)\n",
    "t_[\"x\"]=t_[\"num_vertices\"].apply(lambda x: str(int(x)))\n",
    "t_.sort_values(by=[\"num_vertices\", \"spars\"], inplace=True)\n",
    "sns.lineplot(data=t_, x=\"x\", y=\"Gap\", hue=\"spars\", style=\"spars\",ci=None)\n",
    "plt.legend(title=\"\", loc=\"lower right\")\n",
    "plt.xlabel(\"Number of vertices\")\n",
    "#plt.title(\"Lower is better.\")\n",
    "plt.tight_layout()\n",
    "plt.ylabel(\"Obj./LB\")\n",
    "plt.savefig(\"./output/solution_quality_lineplot.pdf\")\n",
    "plt.show()"
   ]
  },
  {
   "cell_type": "markdown",
   "id": "bd42f3d9-5f8d-4323-adf2-ff4a622dd062",
   "metadata": {},
   "source": [
    "We see that only theta12-2, wspd2-3, and yao12-2 yield reasonably good results. The theta-12-2 and yao12-2 seem to coincide. The WSPD2-3 has slightly better results but the difference is relatively inconsistent and small. Both seem to grow with the number of vertices and are above 1.5 for 20 vertices."
   ]
  },
  {
   "cell_type": "markdown",
   "id": "5a7cc8c3-0614-4036-a8ec-a5ec1aa56eca",
   "metadata": {},
   "source": [
    "## 2. Runtime\n",
    "\n",
    "Let us next take a look on the runtime. We are comparing a lot of different strategies which are too much for a lineplot. Instead we do a heatmap that shows us, which instances could still be solved wihtin a strict time limit. Infeasible instances are considered as unsolved (they are slightly worse but in both cases we do not obtain the desired solution from the sparsification).\n",
    "\n",
    "From this heatmap, we select a few intersting strategies for which we then also compare the concrete runtime in a lineplot."
   ]
  },
  {
   "cell_type": "code",
   "execution_count": 16,
   "id": "9b90a2dc-0c4d-40b3-abb3-2de7c3629e90",
   "metadata": {},
   "outputs": [
    {
     "data": {
      "image/png": "[encoded data removed]",
      "text/plain": [
       "<Figure size 500x300 with 2 Axes>"
      ]
     },
     "metadata": {},
     "output_type": "display_data"
    }
   ],
   "source": [
    "TIMEOUT_AFTER_S = 15\n",
    "fig = plt.figure(figsize=(0.5*PAPER_WIDTH,3))\n",
    "\n",
    "t = t_experiments_feasible.copy()\n",
    "t[\"timeout\"] = (t[\"Runtime\"]>TIMEOUT_AFTER_S).apply(lambda x: 0 if x else 100)\n",
    "t.loc[t[\"Status\"]!=2, \"timeout\"]=0\n",
    "t_ = t.groupby([\"num_vertices\", \"sparsification_technique\"])[\"timeout\"].mean().reset_index()\n",
    "t_\n",
    "sparsification_techniques = t[\"sparsification_technique\"].unique()\n",
    "t__ = pd.DataFrame()\n",
    "for s in sparsification_techniques:\n",
    "    column = t_[t_[\"sparsification_technique\"]==s].groupby(\"num_vertices\")[\"timeout\"].mean().copy()\n",
    "    t__[s]=column\n",
    "#pd.melt(t_,id_vars=[\"sparsification_technique\"], value_vars=[\"timeout\"])\n",
    "t__.sort_index(inplace=True, ascending=False)\n",
    "sns.heatmap(data=t__, cmap=\"flare_r\", xticklabels=True, vmin=0)\n",
    "#plt.xlabel(\"Sparsification Technique\")\n",
    "plt.xlabel(\"\")\n",
    "plt.yticks(rotation=0)\n",
    "#plt.gca().set_xticks(range(len(list(sparsification_techniques))))\n",
    "plt.xticks(rotation=90,fontsize=10)\n",
    "#plt.set_xticklabels(list(range(len(sparsification_techniques))))\n",
    "plt.ylabel(\"Number of vertices\")\n",
    "plt.title(f\"\\% solved within {TIMEOUT_AFTER_S}s\")\n",
    "#plt.title(f\"Solved within {TIMEOUT_AFTER_S}s. Brighter is better.\")\n",
    "plt.tight_layout()\n",
    "plt.savefig(\"./output/runtime_heatmap.pdf\")\n",
    "plt.show()"
   ]
  },
  {
   "cell_type": "code",
   "execution_count": 17,
   "id": "c09e5dc3-8b78-4540-b5d9-e3de0b01ba48",
   "metadata": {},
   "outputs": [
    {
     "name": "stderr",
     "output_type": "stream",
     "text": [
      "/tmp/ipykernel_10637/169140962.py:8: FutureWarning: \n",
      "\n",
      "The `ci` parameter is deprecated. Use `errorbar=None` for the same effect.\n",
      "\n",
      "  sns.lineplot(data=t_, x=\"x\", y=\"Runtime\", hue=\"Sparsification\", style=\"Sparsification\", ci=None)\n"
     ]
    },
    {
     "data": {
      "image/png": "[encoded data removed]",
      "text/plain": [
       "<Figure size 500x300 with 1 Axes>"
      ]
     },
     "metadata": {},
     "output_type": "display_data"
    }
   ],
   "source": [
    "INTERESTING_STRATEGIES =[\"complete\", \"onion-0\", \"theta12-2\", \"wspd2-3\", \"yao12-2\"]\n",
    "fig = plt.figure(figsize=(0.5*PAPER_WIDTH,3))\n",
    "t = t_experiments_feasible.copy()\n",
    "t_ = t[t[\"sparsification_technique\"].isin(INTERESTING_STRATEGIES)].copy()\n",
    "t_.rename(columns={\"sparsification_technique\": \"Sparsification\"}, inplace=True)\n",
    "t_[\"x\"]=t_[\"num_vertices\"].apply(lambda x: str(int(x)))\n",
    "t_.sort_values(by=[\"num_vertices\", \"Sparsification\"], inplace=True)\n",
    "sns.lineplot(data=t_, x=\"x\", y=\"Runtime\", hue=\"Sparsification\", style=\"Sparsification\", ci=None)\n",
    "plt.legend(title=\"\")\n",
    "plt.xlabel(\"Number of vertices\")\n",
    "plt.tight_layout()\n",
    "plt.savefig(\"./output/runtime_lineplot.pdf\")\n",
    "plt.show()"
   ]
  },
  {
   "cell_type": "markdown",
   "id": "13eef806-14af-4bcb-b631-a0defe4b9435",
   "metadata": {},
   "source": [
    "While WSP2-3 had a small advantage for the quality, it is much slower than theta-12-2 and yao-2 (which again coincide). Solving the theta-12-2 or yao-2 happens extremely fast, within a fraction of the complete graph. WSPD2-3 is still faster than the complete graph, but e.g. for 19 vertices, the runtime is nearly identical. For 20 vertices, it only need 10% of the time (but the other two need less than 1%."
   ]
  },
  {
   "cell_type": "code",
   "execution_count": 18,
   "id": "6d713976-69f5-451e-a358-eefaa8711aed",
   "metadata": {},
   "outputs": [
    {
     "data": {
      "text/plain": [
       "sparsification_technique\n",
       "complete     101.059686\n",
       "delaunayT      0.046123\n",
       "greedyT        0.061243\n",
       "mwT            0.060047\n",
       "onion-0        0.472594\n",
       "theta12-2      1.567298\n",
       "theta6-2       0.065323\n",
       "yao12-2        1.642762\n",
       "yao6-2         0.069493\n",
       "Name: Runtime, dtype: float64"
      ]
     },
     "execution_count": 18,
     "metadata": {},
     "output_type": "execute_result"
    }
   ],
   "source": [
    "t = t_experiments_feasible.copy()\n",
    "t[t[\"num_vertices\"]==20].groupby(\"sparsification_technique\")[\"Runtime\"].mean()"
   ]
  }
 ],
 "metadata": {
  "kernelspec": {
   "display_name": "Python 3",
   "language": "python",
   "name": "python3"
  },
  "language_info": {
   "codemirror_mode": {
    "name": "ipython",
    "version": 3
   },
   "file_extension": ".py",
   "mimetype": "text/x-python",
   "name": "python",
   "nbconvert_exporter": "python",
   "pygments_lexer": "ipython3",
   "version": "3.10.9"
  }
 },
 "nbformat": 4,
 "nbformat_minor": 5
}
